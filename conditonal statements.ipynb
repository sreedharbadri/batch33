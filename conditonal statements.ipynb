{
 "cells": [
  {
   "cell_type": "code",
   "execution_count": 1,
   "metadata": {
    "collapsed": false
   },
   "outputs": [
    {
     "name": "stdout",
     "output_type": "stream",
     "text": [
      "program started\n",
      "a is big\n",
      "b is big\n",
      "other statements in program\n",
      "program ended\n"
     ]
    }
   ],
   "source": [
    "print \"program started\"\n",
    "a=10\n",
    "b=20\n",
    "print \"a is big\"\n",
    "print \"b is big\"\n",
    "print \"other statements in program\"\n",
    "print \"program ended\""
   ]
  },
  {
   "cell_type": "code",
   "execution_count": 3,
   "metadata": {
    "collapsed": false
   },
   "outputs": [
    {
     "ename": "SyntaxError",
     "evalue": "invalid syntax (<ipython-input-3-bb5c1db703fb>, line 4)",
     "output_type": "error",
     "traceback": [
      "\u001b[0;36m  File \u001b[0;32m\"<ipython-input-3-bb5c1db703fb>\"\u001b[0;36m, line \u001b[0;32m4\u001b[0m\n\u001b[0;31m    if a>b{\u001b[0m\n\u001b[0m          ^\u001b[0m\n\u001b[0;31mSyntaxError\u001b[0m\u001b[0;31m:\u001b[0m invalid syntax\n"
     ]
    }
   ],
   "source": [
    "print \"program started\"\n",
    "a=10\n",
    "b=20\n",
    "if a>b{\n",
    "print \"a is big\"\n",
    "}\n",
    "else{\n",
    "print \"b is big\"\n",
    "}\n",
    "\n",
    "print \"other statements in program\"\n",
    "print \"program ended\""
   ]
  },
  {
   "cell_type": "code",
   "execution_count": 4,
   "metadata": {
    "collapsed": false
   },
   "outputs": [
    {
     "name": "stdout",
     "output_type": "stream",
     "text": [
      "program started\n",
      "b is big\n",
      "other statements in program\n",
      "program ended\n"
     ]
    }
   ],
   "source": [
    "print \"program started\"\n",
    "a=10\n",
    "b=20\n",
    "if a>b:\n",
    " print \"a is big\"\n",
    "else:\n",
    " print \"b is big\"\n",
    "print \"other statements in program\"\n",
    "print \"program ended\""
   ]
  },
  {
   "cell_type": "code",
   "execution_count": 5,
   "metadata": {
    "collapsed": false
   },
   "outputs": [
    {
     "name": "stdout",
     "output_type": "stream",
     "text": [
      "program started\n",
      "a is big\n",
      "other statements in program\n",
      "program ended\n"
     ]
    }
   ],
   "source": [
    "print \"program started\"\n",
    "a=100\n",
    "b=20\n",
    "if a>b:\n",
    " print \"a is big\"\n",
    "else:\n",
    " print \"b is big\"\n",
    "print \"other statements in program\"\n",
    "print \"program ended\""
   ]
  },
  {
   "cell_type": "code",
   "execution_count": 7,
   "metadata": {
    "collapsed": false
   },
   "outputs": [
    {
     "ename": "IndentationError",
     "evalue": "unexpected indent (<ipython-input-7-f49128040af9>, line 7)",
     "output_type": "error",
     "traceback": [
      "\u001b[0;36m  File \u001b[0;32m\"<ipython-input-7-f49128040af9>\"\u001b[0;36m, line \u001b[0;32m7\u001b[0m\n\u001b[0;31m    print \"if block ended\"\u001b[0m\n\u001b[0m    ^\u001b[0m\n\u001b[0;31mIndentationError\u001b[0m\u001b[0;31m:\u001b[0m unexpected indent\n"
     ]
    }
   ],
   "source": [
    "print \"program started\"\n",
    "a=100\n",
    "b=20\n",
    "if a>b:\n",
    " print \"if block started\"\n",
    " print \"a is big\"\n",
    "    print \"if block ended\"\n",
    "else:\n",
    " print \"else block started\"\n",
    " print \"b is big\" \n",
    " print \"else block ended\"\n",
    "print \"other statements in program\"\n",
    "print \"program ended\""
   ]
  },
  {
   "cell_type": "code",
   "execution_count": 8,
   "metadata": {
    "collapsed": false
   },
   "outputs": [
    {
     "name": "stdout",
     "output_type": "stream",
     "text": [
      "program started\n",
      "if block started\n",
      "a is big\n",
      "if block ended\n",
      "other statements in program\n",
      "program ended\n"
     ]
    }
   ],
   "source": [
    "print \"program started\"\n",
    "a=100\n",
    "b=20\n",
    "if a>b:\n",
    " print \"if block started\"\n",
    " print \"a is big\"\n",
    " print \"if block ended\"\n",
    "\n",
    "print \"other statements in program\"\n",
    "print \"program ended\""
   ]
  },
  {
   "cell_type": "code",
   "execution_count": 9,
   "metadata": {
    "collapsed": false
   },
   "outputs": [
    {
     "name": "stdout",
     "output_type": "stream",
     "text": [
      "program started\n",
      "other statements in program\n",
      "program ended\n"
     ]
    }
   ],
   "source": [
    "print \"program started\"\n",
    "a=10\n",
    "b=20\n",
    "if a>b:\n",
    " print \"if block started\"\n",
    " print \"a is big\"\n",
    " print \"if block ended\"\n",
    "\n",
    "print \"other statements in program\"\n",
    "print \"program ended\""
   ]
  },
  {
   "cell_type": "code",
   "execution_count": 10,
   "metadata": {
    "collapsed": false
   },
   "outputs": [
    {
     "name": "stdout",
     "output_type": "stream",
     "text": [
      "program started\n",
      "if block ended\n",
      "other statements in program\n",
      "program ended\n"
     ]
    }
   ],
   "source": [
    "print \"program started\"\n",
    "a=10\n",
    "b=20\n",
    "if a>b:\n",
    " print \"if block started\"\n",
    " print \"a is big\"\n",
    "print \"if block ended\"\n",
    "print \"other statements in program\"\n",
    "print \"program ended\""
   ]
  },
  {
   "cell_type": "code",
   "execution_count": 11,
   "metadata": {
    "collapsed": false
   },
   "outputs": [
    {
     "name": "stdout",
     "output_type": "stream",
     "text": [
      "program started\n",
      "this is else block\n",
      "b is big\n",
      "other statements in program\n",
      "program ended\n"
     ]
    }
   ],
   "source": [
    "print \"program started\"\n",
    "a=10\n",
    "b=20\n",
    "if a>b:\n",
    " print \"if block started\"\n",
    " print \"a is big\"\n",
    " print \"if block ended\"\n",
    "else:\n",
    "    print \"this is else block\"\n",
    "    print \"b is big\"\n",
    "print \"other statements in program\"\n",
    "print \"program ended\""
   ]
  },
  {
   "cell_type": "code",
   "execution_count": 12,
   "metadata": {
    "collapsed": false
   },
   "outputs": [
    {
     "name": "stdout",
     "output_type": "stream",
     "text": [
      "program started\n",
      "this is else block\n",
      "b is big\n",
      "other statements in program\n",
      "program ended\n"
     ]
    }
   ],
   "source": [
    "print \"program started\"\n",
    "a=10\n",
    "b=20\n",
    "if a>b:\n",
    "    print \"if block started\"\n",
    "    print \"a is big\"\n",
    "    print \"if block ended\"\n",
    "else:\n",
    "    print \"this is else block\"\n",
    "    print \"b is big\"\n",
    "print \"other statements in program\"\n",
    "print \"program ended\""
   ]
  },
  {
   "cell_type": "code",
   "execution_count": 13,
   "metadata": {
    "collapsed": false
   },
   "outputs": [
    {
     "name": "stdout",
     "output_type": "stream",
     "text": [
      "program started\n",
      "this is else block\n",
      "b is big\n",
      "other statements in program\n",
      "program ended\n"
     ]
    }
   ],
   "source": [
    "print \"program started\"\n",
    "a=10\n",
    "b=20\n",
    "if a>b:\n",
    "  print \"if block started\"\n",
    "  print \"a is big\"\n",
    "  print \"if block ended\"\n",
    "else:\n",
    "    print \"this is else block\"\n",
    "    print \"b is big\"\n",
    "print \"other statements in program\"\n",
    "print \"program ended\""
   ]
  },
  {
   "cell_type": "code",
   "execution_count": 14,
   "metadata": {
    "collapsed": false
   },
   "outputs": [
    {
     "ename": "SyntaxError",
     "evalue": "invalid syntax (<ipython-input-14-845f1a4a36f9>, line 8)",
     "output_type": "error",
     "traceback": [
      "\u001b[0;36m  File \u001b[0;32m\"<ipython-input-14-845f1a4a36f9>\"\u001b[0;36m, line \u001b[0;32m8\u001b[0m\n\u001b[0;31m    else:\u001b[0m\n\u001b[0m       ^\u001b[0m\n\u001b[0;31mSyntaxError\u001b[0m\u001b[0;31m:\u001b[0m invalid syntax\n"
     ]
    }
   ],
   "source": [
    "print \"program started\"\n",
    "a=10\n",
    "b=20\n",
    "if a>b:\n",
    "  print \"if block started\"\n",
    "  print \"a is big\"\n",
    "print \"if block ended\"\n",
    "\"\"\"\n",
    "sdfsdf\n",
    "sdfsd\n",
    "sdf\n",
    "sd\n",
    "fsd\n",
    "fsd\n",
    "fsd\n",
    "fsd\n",
    "fs\n",
    "df\n",
    "sdf\n",
    "\"\"\"\n",
    "else:\n",
    "    print \"this is else block\"\n",
    "    print \"b is big\"\n",
    "print \"other statements in program\"\n",
    "print \"program ended\""
   ]
  },
  {
   "cell_type": "code",
   "execution_count": null,
   "metadata": {
    "collapsed": true
   },
   "outputs": [],
   "source": [
    "print \"program started\"\n",
    "a=10\n",
    "b=20\n",
    "if a>b{\n",
    "    for i in \"python\"{\n",
    "        print \"sdfsf\"\n",
    "        }\n",
    "   print \"a is big\"\n",
    "}\n",
    "else{\n",
    "print \"b is big\"\n",
    "}\n",
    "\n",
    "print \"other statements in program\"\n",
    "print \"program ended\""
   ]
  },
  {
   "cell_type": "code",
   "execution_count": 15,
   "metadata": {
    "collapsed": false
   },
   "outputs": [
    {
     "name": "stdout",
     "output_type": "stream",
     "text": [
      "True\n",
      "False\n",
      "False\n"
     ]
    }
   ],
   "source": [
    "a=10\n",
    "print isinstance(a, int)\n",
    "print isinstance(a, float)\n",
    "print isinstance(a, str)"
   ]
  },
  {
   "cell_type": "code",
   "execution_count": 16,
   "metadata": {
    "collapsed": false
   },
   "outputs": [
    {
     "name": "stdout",
     "output_type": "stream",
     "text": [
      "True\n"
     ]
    }
   ],
   "source": [
    "class c1:\n",
    "    pass\n",
    "o1=c1()\n",
    "print isinstance(o1,c1)"
   ]
  },
  {
   "cell_type": "code",
   "execution_count": 17,
   "metadata": {
    "collapsed": false
   },
   "outputs": [
    {
     "ename": "TypeError",
     "evalue": "no ordering relation is defined for complex numbers",
     "output_type": "error",
     "traceback": [
      "\u001b[0;31m---------------------------------------------------------------------------\u001b[0m",
      "\u001b[0;31mTypeError\u001b[0m                                 Traceback (most recent call last)",
      "\u001b[0;32m<ipython-input-17-3e7af864531c>\u001b[0m in \u001b[0;36m<module>\u001b[0;34m()\u001b[0m\n\u001b[1;32m      1\u001b[0m \u001b[0ma\u001b[0m\u001b[0;34m=\u001b[0m\u001b[0;36m10\u001b[0m\u001b[0;34m+\u001b[0m\u001b[0;36m5j\u001b[0m\u001b[0;34m\u001b[0m\u001b[0m\n\u001b[1;32m      2\u001b[0m \u001b[0mb\u001b[0m\u001b[0;34m=\u001b[0m\u001b[0;36m5\u001b[0m\u001b[0;34m+\u001b[0m\u001b[0;36m10j\u001b[0m\u001b[0;34m\u001b[0m\u001b[0m\n\u001b[0;32m----> 3\u001b[0;31m \u001b[0;32mprint\u001b[0m \u001b[0ma\u001b[0m\u001b[0;34m>\u001b[0m\u001b[0mb\u001b[0m\u001b[0;34m\u001b[0m\u001b[0m\n\u001b[0m",
      "\u001b[0;31mTypeError\u001b[0m: no ordering relation is defined for complex numbers"
     ]
    }
   ],
   "source": [
    "a=10+5j\n",
    "b=5+10j\n",
    "print a>b"
   ]
  },
  {
   "cell_type": "code",
   "execution_count": 18,
   "metadata": {
    "collapsed": false
   },
   "outputs": [
    {
     "data": {
      "text/plain": [
       "11.180339887498949"
      ]
     },
     "execution_count": 18,
     "metadata": {},
     "output_type": "execute_result"
    }
   ],
   "source": [
    "abs(a)"
   ]
  },
  {
   "cell_type": "code",
   "execution_count": 19,
   "metadata": {
    "collapsed": false
   },
   "outputs": [
    {
     "data": {
      "text/plain": [
       "11.180339887498949"
      ]
     },
     "execution_count": 19,
     "metadata": {},
     "output_type": "execute_result"
    }
   ],
   "source": [
    "abs(b)"
   ]
  },
  {
   "cell_type": "code",
   "execution_count": 20,
   "metadata": {
    "collapsed": false
   },
   "outputs": [
    {
     "name": "stdout",
     "output_type": "stream",
     "text": [
      "False\n"
     ]
    }
   ],
   "source": [
    "print abs(a)>abs(b)"
   ]
  },
  {
   "cell_type": "code",
   "execution_count": 21,
   "metadata": {
    "collapsed": false
   },
   "outputs": [
    {
     "name": "stdout",
     "output_type": "stream",
     "text": [
      "False\n"
     ]
    }
   ],
   "source": [
    "a=1+2j\n",
    "b=2+3j\n",
    "print abs(a)>abs(b)"
   ]
  },
  {
   "cell_type": "code",
   "execution_count": 22,
   "metadata": {
    "collapsed": false
   },
   "outputs": [
    {
     "name": "stdout",
     "output_type": "stream",
     "text": [
      "True\n"
     ]
    }
   ],
   "source": [
    "a=1+2j\n",
    "b=2+3j\n",
    "print abs(a)<abs(b)"
   ]
  },
  {
   "cell_type": "code",
   "execution_count": 23,
   "metadata": {
    "collapsed": false
   },
   "outputs": [
    {
     "name": "stdout",
     "output_type": "stream",
     "text": [
      "2.2360679775\n"
     ]
    }
   ],
   "source": [
    "print abs(a)"
   ]
  },
  {
   "cell_type": "code",
   "execution_count": 24,
   "metadata": {
    "collapsed": false
   },
   "outputs": [
    {
     "name": "stdout",
     "output_type": "stream",
     "text": [
      "3.60555127546\n"
     ]
    }
   ],
   "source": [
    "print abs(b)"
   ]
  },
  {
   "cell_type": "code",
   "execution_count": 25,
   "metadata": {
    "collapsed": false
   },
   "outputs": [
    {
     "name": "stdout",
     "output_type": "stream",
     "text": [
      "False\n",
      "False\n"
     ]
    }
   ],
   "source": [
    "a=1+2j\n",
    "b=2+1j\n",
    "print abs(a)<abs(b)\n",
    "print abs(a)>abs(b)"
   ]
  },
  {
   "cell_type": "code",
   "execution_count": 26,
   "metadata": {
    "collapsed": false
   },
   "outputs": [
    {
     "data": {
      "text/plain": [
       "(10+11j)"
      ]
     },
     "execution_count": 26,
     "metadata": {},
     "output_type": "execute_result"
    }
   ],
   "source": [
    "10+2j * 4+3j"
   ]
  },
  {
   "cell_type": "code",
   "execution_count": 27,
   "metadata": {
    "collapsed": false
   },
   "outputs": [
    {
     "data": {
      "text/plain": [
       "(10+3.5j)"
      ]
     },
     "execution_count": 27,
     "metadata": {},
     "output_type": "execute_result"
    }
   ],
   "source": [
    "10+2j / 4+3j"
   ]
  },
  {
   "cell_type": "code",
   "execution_count": 28,
   "metadata": {
    "collapsed": false
   },
   "outputs": [
    {
     "ename": "TypeError",
     "evalue": "no ordering relation is defined for complex numbers",
     "output_type": "error",
     "traceback": [
      "\u001b[0;31m---------------------------------------------------------------------------\u001b[0m",
      "\u001b[0;31mTypeError\u001b[0m                                 Traceback (most recent call last)",
      "\u001b[0;32m<ipython-input-28-d289e52687e8>\u001b[0m in \u001b[0;36m<module>\u001b[0;34m()\u001b[0m\n\u001b[0;32m----> 1\u001b[0;31m \u001b[0;36m10\u001b[0m\u001b[0;34m+\u001b[0m\u001b[0;36m2j\u001b[0m \u001b[0;34m>\u001b[0m \u001b[0;36m4\u001b[0m\u001b[0;34m+\u001b[0m\u001b[0;36m3j\u001b[0m\u001b[0;34m\u001b[0m\u001b[0m\n\u001b[0m",
      "\u001b[0;31mTypeError\u001b[0m: no ordering relation is defined for complex numbers"
     ]
    }
   ],
   "source": [
    "10+2j > 4+3j"
   ]
  },
  {
   "cell_type": "code",
   "execution_count": null,
   "metadata": {
    "collapsed": true
   },
   "outputs": [],
   "source": []
  }
 ],
 "metadata": {
  "kernelspec": {
   "display_name": "Python 2",
   "language": "python",
   "name": "python2"
  },
  "language_info": {
   "codemirror_mode": {
    "name": "ipython",
    "version": 2
   },
   "file_extension": ".py",
   "mimetype": "text/x-python",
   "name": "python",
   "nbconvert_exporter": "python",
   "pygments_lexer": "ipython2",
   "version": "2.7.13"
  }
 },
 "nbformat": 4,
 "nbformat_minor": 2
}
