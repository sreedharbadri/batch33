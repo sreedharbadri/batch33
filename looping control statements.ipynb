{
 "cells": [
  {
   "cell_type": "code",
   "execution_count": 1,
   "metadata": {
    "collapsed": false
   },
   "outputs": [
    {
     "name": "stdout",
     "output_type": "stream",
     "text": [
      "Starting\n",
      "p\n",
      "y\n",
      "t\n",
      "h\n",
      "o\n",
      "n\n",
      "other\n",
      "ended\n"
     ]
    }
   ],
   "source": [
    "print \"Starting\"\n",
    "for i in \"python\":\n",
    "    print i\n",
    "print \"other\"\n",
    "print \"ended\""
   ]
  },
  {
   "cell_type": "code",
   "execution_count": 2,
   "metadata": {
    "collapsed": false
   },
   "outputs": [
    {
     "name": "stdout",
     "output_type": "stream",
     "text": [
      "Starting\n",
      "0\n",
      "1\n",
      "2\n",
      "3\n",
      "4\n",
      "5\n",
      "6\n",
      "7\n",
      "8\n",
      "9\n",
      "other\n",
      "ended\n"
     ]
    }
   ],
   "source": [
    "print \"Starting\"\n",
    "i=0\n",
    "while i<10:\n",
    "    print i\n",
    "    i=i+1\n",
    "print \"other\"\n",
    "print \"ended\""
   ]
  },
  {
   "cell_type": "code",
   "execution_count": 3,
   "metadata": {
    "collapsed": false
   },
   "outputs": [
    {
     "name": "stdout",
     "output_type": "stream",
     "text": [
      "Starting\n",
      "1\n",
      "2\n",
      "3\n",
      "other\n",
      "ended\n"
     ]
    }
   ],
   "source": [
    "print \"Starting\"\n",
    "i=0\n",
    "while i<3:\n",
    "    i=i+1\n",
    "    print i\n",
    "print \"other\"\n",
    "print \"ended\""
   ]
  },
  {
   "cell_type": "code",
   "execution_count": 4,
   "metadata": {
    "collapsed": false
   },
   "outputs": [
    {
     "name": "stdout",
     "output_type": "stream",
     "text": [
      "Starting\n",
      "0\n",
      "1\n",
      "2\n",
      "other\n",
      "ended\n"
     ]
    }
   ],
   "source": [
    "print \"Starting\"\n",
    "i=0\n",
    "while i<3:\n",
    "    print i\n",
    "    i=i+1\n",
    "    \n",
    "print \"other\"\n",
    "print \"ended\""
   ]
  },
  {
   "cell_type": "code",
   "execution_count": 5,
   "metadata": {
    "collapsed": false
   },
   "outputs": [
    {
     "name": "stdout",
     "output_type": "stream",
     "text": [
      "Starting\n",
      "out side loop: i=3\n",
      "other\n",
      "ended\n"
     ]
    }
   ],
   "source": [
    "print \"Starting\"\n",
    "i=0\n",
    "while i<3:\n",
    "    i=i+1\n",
    "print \"out side loop: i=%s\"%i\n",
    "print \"other\"\n",
    "print \"ended\""
   ]
  },
  {
   "cell_type": "code",
   "execution_count": 6,
   "metadata": {
    "collapsed": false
   },
   "outputs": [
    {
     "name": "stdout",
     "output_type": "stream",
     "text": [
      "Starting\n",
      "0 p\n",
      "1 y\n",
      "2 t\n",
      "3 h\n",
      "4 o\n",
      "5 n\n",
      "other\n",
      "ended\n"
     ]
    }
   ],
   "source": [
    "print \"Starting\"\n",
    "for index, value in enumerate(\"python\"):\n",
    "    print index, value\n",
    "print \"other\"\n",
    "print \"ended\""
   ]
  },
  {
   "cell_type": "code",
   "execution_count": 7,
   "metadata": {
    "collapsed": false
   },
   "outputs": [
    {
     "name": "stdout",
     "output_type": "stream",
     "text": [
      "Starting\n",
      "p\n",
      "y\n",
      "t\n",
      "h\n",
      "o\n",
      "n\n",
      "other\n",
      "ended\n"
     ]
    }
   ],
   "source": [
    "print \"Starting\"\n",
    "for i in \"python\":\n",
    "    print i\n",
    "print \"other\"\n",
    "print \"ended\""
   ]
  },
  {
   "cell_type": "code",
   "execution_count": 8,
   "metadata": {
    "collapsed": false
   },
   "outputs": [
    {
     "name": "stdout",
     "output_type": "stream",
     "text": [
      "Starting\n",
      "a\n",
      "b\n",
      "c\n",
      "other\n",
      "ended\n"
     ]
    }
   ],
   "source": [
    "print \"Starting\"\n",
    "for i in \"abc\":\n",
    "    print i\n",
    "print \"other\"\n",
    "print \"ended\""
   ]
  },
  {
   "cell_type": "code",
   "execution_count": 9,
   "metadata": {
    "collapsed": true
   },
   "outputs": [],
   "source": [
    "a=10\n",
    "b=20\n",
    "if a>b:\n",
    "    print \"a is big\""
   ]
  },
  {
   "cell_type": "code",
   "execution_count": 13,
   "metadata": {
    "collapsed": false
   },
   "outputs": [
    {
     "ename": "IndentationError",
     "evalue": "expected an indented block (<ipython-input-13-625d8b1f39b0>, line 11)",
     "output_type": "error",
     "traceback": [
      "\u001b[0;36m  File \u001b[0;32m\"<ipython-input-13-625d8b1f39b0>\"\u001b[0;36m, line \u001b[0;32m11\u001b[0m\n\u001b[0;31m    print \"other\"\u001b[0m\n\u001b[0m        ^\u001b[0m\n\u001b[0;31mIndentationError\u001b[0m\u001b[0;31m:\u001b[0m expected an indented block\n"
     ]
    }
   ],
   "source": [
    "# pep8\n",
    "# pylint\n",
    "# organizational coding standards\n",
    "print \"start\"\n",
    "a=10\n",
    "b=20\n",
    "if a>b:\n",
    "    print \"a is big\"\n",
    "else:\n",
    "   \n",
    "print \"other\"\n",
    "print \"ended\""
   ]
  },
  {
   "cell_type": "code",
   "execution_count": 14,
   "metadata": {
    "collapsed": false
   },
   "outputs": [
    {
     "name": "stdout",
     "output_type": "stream",
     "text": [
      "start\n",
      "other\n",
      "ended\n"
     ]
    }
   ],
   "source": [
    "# pep8\n",
    "# pylint\n",
    "# organizational coding standards\n",
    "print \"start\"\n",
    "a=10\n",
    "b=20\n",
    "if a>b:\n",
    "    print \"a is big\"\n",
    "else:\n",
    "    \"\"\"\n",
    "    don't have statements now to mention. \n",
    "    \"\"\"\n",
    "    pass\n",
    "print \"other\"\n",
    "print \"ended\""
   ]
  },
  {
   "cell_type": "code",
   "execution_count": 15,
   "metadata": {
    "collapsed": false
   },
   "outputs": [
    {
     "name": "stdout",
     "output_type": "stream",
     "text": [
      "Starting\n",
      "i 0ut side loop: i= c\n",
      "other\n",
      "ended\n"
     ]
    }
   ],
   "source": [
    "print \"Starting\"\n",
    "for i in \"abc\":\n",
    "    pass\n",
    "print \"i 0ut side loop: i=\",i\n",
    "print \"other\"\n",
    "print \"ended\""
   ]
  },
  {
   "cell_type": "code",
   "execution_count": 16,
   "metadata": {
    "collapsed": false
   },
   "outputs": [
    {
     "name": "stdout",
     "output_type": "stream",
     "text": [
      "Starting\n",
      "iteration started\n",
      "i out side loop: i= a\n",
      "other\n",
      "ended\n"
     ]
    }
   ],
   "source": [
    "# break and continue\n",
    "print \"Starting\"\n",
    "for i in \"abc\":\n",
    "    print \"iteration started\"\n",
    "    break\n",
    "    print \"iteration ended\"\n",
    "print \"i out side loop: i=\",i\n",
    "print \"other\"\n",
    "print \"ended\""
   ]
  },
  {
   "cell_type": "code",
   "execution_count": 17,
   "metadata": {
    "collapsed": false
   },
   "outputs": [
    {
     "name": "stdout",
     "output_type": "stream",
     "text": [
      "Starting\n",
      "Enter a value:abc\n",
      "iteration started\n",
      "i= a\n",
      "iteration ended\n",
      "iteration started\n",
      "i= b\n",
      "iteration ended\n",
      "iteration started\n",
      "i= c\n",
      "iteration ended\n",
      "i out side loop: i= c\n",
      "other\n",
      "ended\n"
     ]
    }
   ],
   "source": [
    "# break and continue\n",
    "print \"Starting\"\n",
    "s=raw_input(\"Enter a value:\")\n",
    "for i in s:\n",
    "    print \"iteration started\"\n",
    "    if i==\" \":\n",
    "        break\n",
    "    print \"i=\",i\n",
    "    print \"iteration ended\"\n",
    "print \"i out side loop: i=\",i\n",
    "print \"other\"\n",
    "print \"ended\""
   ]
  },
  {
   "cell_type": "code",
   "execution_count": 18,
   "metadata": {
    "collapsed": false
   },
   "outputs": [
    {
     "name": "stdout",
     "output_type": "stream",
     "text": [
      "Starting\n",
      "Enter a value:a b c\n",
      "iteration started\n",
      "i= a\n",
      "iteration ended\n",
      "iteration started\n",
      "i out side loop: i=  \n",
      "other\n",
      "ended\n"
     ]
    }
   ],
   "source": [
    "# break and continue\n",
    "print \"Starting\"\n",
    "s=raw_input(\"Enter a value:\")\n",
    "for i in s:\n",
    "    print \"iteration started\"\n",
    "    if i==\" \":\n",
    "        break\n",
    "    print \"i=\",i\n",
    "    print \"iteration ended\"\n",
    "print \"i out side loop: i=\",i\n",
    "print \"other\"\n",
    "print \"ended\""
   ]
  },
  {
   "cell_type": "code",
   "execution_count": 19,
   "metadata": {
    "collapsed": false
   },
   "outputs": [
    {
     "name": "stdout",
     "output_type": "stream",
     "text": [
      "Starting\n",
      "Enter a value:abc\n",
      "iteration started\n",
      "i inside loop: a\n",
      "iteration ended\n",
      "iteration started\n",
      "i inside loop: b\n",
      "iteration ended\n",
      "iteration started\n",
      "i inside loop: c\n",
      "iteration ended\n",
      "i out side loop: i= c\n",
      "other\n",
      "ended\n"
     ]
    }
   ],
   "source": [
    "# break and continue\n",
    "print \"Starting\"\n",
    "s=raw_input(\"Enter a value:\")\n",
    "for i in s:\n",
    "    print \"iteration started\"\n",
    "    print \"i inside loop:\",i\n",
    "    print \"iteration ended\"\n",
    "    continue\n",
    "print \"i out side loop: i=\",i\n",
    "print \"other\"\n",
    "print \"ended\""
   ]
  },
  {
   "cell_type": "code",
   "execution_count": 20,
   "metadata": {
    "collapsed": false
   },
   "outputs": [
    {
     "name": "stdout",
     "output_type": "stream",
     "text": [
      "Starting\n",
      "Enter a value:abc\n",
      "iteration started\n",
      "i inside loop: a\n",
      "iteration ended\n",
      "iteration started\n",
      "i inside loop: b\n",
      "iteration ended\n",
      "iteration started\n",
      "i inside loop: c\n",
      "iteration ended\n",
      "i out side loop: i= c\n",
      "other\n",
      "ended\n"
     ]
    }
   ],
   "source": [
    "# break and continue\n",
    "print \"Starting\"\n",
    "s=raw_input(\"Enter a value:\")\n",
    "for i in s:\n",
    "    print \"iteration started\"\n",
    "    print \"i inside loop:\",i\n",
    "    print \"iteration ended\"\n",
    "\n",
    "print \"i out side loop: i=\",i\n",
    "print \"other\"\n",
    "print \"ended\""
   ]
  },
  {
   "cell_type": "code",
   "execution_count": 21,
   "metadata": {
    "collapsed": false
   },
   "outputs": [
    {
     "name": "stdout",
     "output_type": "stream",
     "text": [
      "Starting\n",
      "Enter a value:abc\n",
      "iteration started\n",
      "i inside loop: a\n",
      "iteration started\n",
      "i inside loop: b\n",
      "iteration started\n",
      "i inside loop: c\n",
      "i out side loop: i= c\n",
      "other\n",
      "ended\n"
     ]
    }
   ],
   "source": [
    "# break and continue\n",
    "print \"Starting\"\n",
    "s=raw_input(\"Enter a value:\")\n",
    "for i in s:\n",
    "    print \"iteration started\"\n",
    "    print \"i inside loop:\",i\n",
    "    continue\n",
    "    print \"iteration ended\"\n",
    "\n",
    "print \"i out side loop: i=\",i\n",
    "print \"other\"\n",
    "print \"ended\""
   ]
  },
  {
   "cell_type": "code",
   "execution_count": 23,
   "metadata": {
    "collapsed": false
   },
   "outputs": [
    {
     "name": "stdout",
     "output_type": "stream",
     "text": [
      "Starting\n",
      "Enter a value:abc\n",
      "iteration started\n",
      "a\n",
      "iteration ended\n",
      "iteration started\n",
      "b\n",
      "iteration ended\n",
      "iteration started\n",
      "c\n",
      "iteration ended\n",
      "i out side loop: i= c\n",
      "other\n",
      "ended\n"
     ]
    }
   ],
   "source": [
    "# break and continue\n",
    "print \"Starting\"\n",
    "s=raw_input(\"Enter a value:\")\n",
    "for i in s:\n",
    "    print \"iteration started\"\n",
    "    if i==\" \":\n",
    "        continue\n",
    "    print i\n",
    "    print \"iteration ended\"\n",
    "\n",
    "print \"i out side loop: i=\",i\n",
    "print \"other\"\n",
    "print \"ended\""
   ]
  },
  {
   "cell_type": "code",
   "execution_count": 1,
   "metadata": {
    "collapsed": false
   },
   "outputs": [
    {
     "name": "stdout",
     "output_type": "stream",
     "text": [
      "Starting\n",
      "Enter a value:a b c\n",
      "iteration started\n",
      "a\n",
      "iteration ended\n",
      "iteration started\n",
      "iteration started\n",
      "b\n",
      "iteration ended\n",
      "iteration started\n",
      "iteration started\n",
      "c\n",
      "iteration ended\n",
      "i out side loop: i= c\n",
      "other\n",
      "ended\n"
     ]
    }
   ],
   "source": [
    "# break and continue\n",
    "print \"Starting\"\n",
    "s=raw_input(\"Enter a value:\")\n",
    "for i in s:\n",
    "    print \"iteration started\"\n",
    "    if i==\" \":\n",
    "        continue\n",
    "    print i\n",
    "    print \"iteration ended\"\n",
    "\n",
    "print \"i out side loop: i=\",i\n",
    "print \"other\"\n",
    "print \"ended\""
   ]
  },
  {
   "cell_type": "code",
   "execution_count": 2,
   "metadata": {
    "collapsed": false
   },
   "outputs": [
    {
     "name": "stdout",
     "output_type": "stream",
     "text": [
      "Starting\n",
      "Enter a value:a b c\n",
      "iteration started\n",
      "a\n",
      "iteration ended\n",
      "iteration started\n",
      "SPACE\n",
      "iteration started\n",
      "b\n",
      "iteration ended\n",
      "iteration started\n",
      "SPACE\n",
      "iteration started\n",
      "c\n",
      "iteration ended\n",
      "i out side loop: i= c\n",
      "other\n",
      "ended\n"
     ]
    }
   ],
   "source": [
    "# break and continue\n",
    "print \"Starting\"\n",
    "s=raw_input(\"Enter a value:\")\n",
    "for i in s:\n",
    "    print \"iteration started\"\n",
    "    if i==\" \":\n",
    "        print \"SPACE\"\n",
    "        continue\n",
    "    print i\n",
    "    print \"iteration ended\"\n",
    "\n",
    "print \"i out side loop: i=\",i\n",
    "print \"other\"\n",
    "print \"ended\""
   ]
  },
  {
   "cell_type": "code",
   "execution_count": null,
   "metadata": {
    "collapsed": true
   },
   "outputs": [],
   "source": [
    "i=0\n",
    "while i<10:\n",
    "    continue\n",
    "    i=i+1\n",
    "    print i"
   ]
  },
  {
   "cell_type": "code",
   "execution_count": 3,
   "metadata": {
    "collapsed": true
   },
   "outputs": [],
   "source": [
    "i=0\n",
    "while i<10:\n",
    "    i=i+1\n",
    "    continue\n",
    "    print i"
   ]
  },
  {
   "cell_type": "code",
   "execution_count": 4,
   "metadata": {
    "collapsed": false
   },
   "outputs": [
    {
     "name": "stdout",
     "output_type": "stream",
     "text": [
      "0\n",
      "1\n",
      "2\n",
      "3\n",
      "4\n",
      "5\n",
      "6\n",
      "7\n",
      "8\n",
      "9\n"
     ]
    }
   ],
   "source": [
    "i=0\n",
    "while i<10:\n",
    "    print i\n",
    "    i=i+1\n",
    "    continue\n",
    "    if i==5:\n",
    "        break\n",
    "    print i"
   ]
  },
  {
   "cell_type": "code",
   "execution_count": null,
   "metadata": {
    "collapsed": true
   },
   "outputs": [],
   "source": [
    "i=0\n",
    "while i<10:\n",
    "    print i\n",
    "    if i==5:\n",
    "        break\n",
    "    i=i+1\n",
    "    continue\n",
    "    print i\n",
    "print \"i out side the loop:\",i"
   ]
  }
 ],
 "metadata": {
  "kernelspec": {
   "display_name": "Python 2",
   "language": "python",
   "name": "python2"
  },
  "language_info": {
   "codemirror_mode": {
    "name": "ipython",
    "version": 2
   },
   "file_extension": ".py",
   "mimetype": "text/x-python",
   "name": "python",
   "nbconvert_exporter": "python",
   "pygments_lexer": "ipython2",
   "version": "2.7.13"
  }
 },
 "nbformat": 4,
 "nbformat_minor": 2
}
