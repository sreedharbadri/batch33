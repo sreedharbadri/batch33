{
 "cells": [
  {
   "cell_type": "code",
   "execution_count": 1,
   "metadata": {
    "collapsed": true
   },
   "outputs": [],
   "source": [
    "a=10\n",
    "b=20\n",
    "c=30"
   ]
  },
  {
   "cell_type": "code",
   "execution_count": 2,
   "metadata": {
    "collapsed": false
   },
   "outputs": [
    {
     "name": "stdout",
     "output_type": "stream",
     "text": [
      "10\n"
     ]
    }
   ],
   "source": [
    "print a"
   ]
  },
  {
   "cell_type": "code",
   "execution_count": 3,
   "metadata": {
    "collapsed": false
   },
   "outputs": [
    {
     "name": "stdout",
     "output_type": "stream",
     "text": [
      "60\n"
     ]
    }
   ],
   "source": [
    "print a+b+c"
   ]
  },
  {
   "cell_type": "code",
   "execution_count": 4,
   "metadata": {
    "collapsed": false
   },
   "outputs": [
    {
     "name": "stdout",
     "output_type": "stream",
     "text": [
      "st1\n",
      "st2\n",
      "st3\n",
      "st4\n"
     ]
    }
   ],
   "source": [
    "print \"st1\"\n",
    "print \"st2\"\n",
    "print \"st3\"\n",
    "print \"st4\""
   ]
  },
  {
   "cell_type": "code",
   "execution_count": 5,
   "metadata": {
    "collapsed": false
   },
   "outputs": [
    {
     "name": "stdout",
     "output_type": "stream",
     "text": [
      "st1\n",
      "st2\n",
      "st3\n",
      "st4\n"
     ]
    }
   ],
   "source": [
    "print \"st1\"\n",
    "if True:\n",
    "    print \"st2\"\n",
    "    print \"st3\"\n",
    "print \"st4\""
   ]
  },
  {
   "cell_type": "code",
   "execution_count": 6,
   "metadata": {
    "collapsed": false
   },
   "outputs": [
    {
     "name": "stdout",
     "output_type": "stream",
     "text": [
      "st1\n",
      "st4\n"
     ]
    }
   ],
   "source": [
    "print \"st1\"\n",
    "if False:\n",
    "    print \"st2\"\n",
    "    print \"st3\"\n",
    "print \"st4\""
   ]
  },
  {
   "cell_type": "code",
   "execution_count": 7,
   "metadata": {
    "collapsed": false
   },
   "outputs": [
    {
     "name": "stdout",
     "output_type": "stream",
     "text": [
      "st1\n",
      "st2\n",
      "st3\n",
      "st4\n",
      "st5\n"
     ]
    }
   ],
   "source": [
    "#looping for while\n",
    "print \"st1\"\n",
    "print \"st2\"\n",
    "print \"st3\"\n",
    "print \"st4\"\n",
    "print \"st5\""
   ]
  },
  {
   "cell_type": "code",
   "execution_count": 9,
   "metadata": {
    "collapsed": false
   },
   "outputs": [
    {
     "name": "stdout",
     "output_type": "stream",
     "text": [
      "st1\n",
      "st2\n",
      "st3\n",
      "st4\n",
      "st5\n"
     ]
    }
   ],
   "source": [
    "for i in range(1,101):\n",
    "    print \"st\"+str(i)"
   ]
  },
  {
   "cell_type": "code",
   "execution_count": 10,
   "metadata": {
    "collapsed": false
   },
   "outputs": [
    {
     "data": {
      "text/plain": [
       "1502335245.360738"
      ]
     },
     "execution_count": 10,
     "metadata": {},
     "output_type": "execute_result"
    }
   ],
   "source": [
    "import time\n",
    "time.time()"
   ]
  },
  {
   "cell_type": "code",
   "execution_count": 11,
   "metadata": {
    "collapsed": false
   },
   "outputs": [
    {
     "name": "stdout",
     "output_type": "stream",
     "text": [
      "st1\n",
      "st2\n",
      "st3\n",
      "st4\n",
      "st5\n",
      "0.0213840007782\n"
     ]
    }
   ],
   "source": [
    "import time\n",
    "t1=time.time()\n",
    "print \"st1\"\n",
    "print \"st2\"\n",
    "print \"st3\"\n",
    "print \"st4\"\n",
    "print \"st5\"\n",
    "print time.time()-t1\n"
   ]
  },
  {
   "cell_type": "code",
   "execution_count": null,
   "metadata": {
    "collapsed": true
   },
   "outputs": [],
   "source": [
    "p_id=23\n",
    "p_name=\"Anil\"\n",
    "p_age=23\n",
    "persons = [23,\"Anil\",23]\n",
    "print {\"name\":\"Anil\",\"id\":23,\"age\":23}"
   ]
  },
  {
   "cell_type": "code",
   "execution_count": 12,
   "metadata": {
    "collapsed": true
   },
   "outputs": [],
   "source": [
    "def fun():\n",
    "    print \"sdfsdf\"\n",
    "    "
   ]
  },
  {
   "cell_type": "code",
   "execution_count": 13,
   "metadata": {
    "collapsed": false
   },
   "outputs": [
    {
     "name": "stdout",
     "output_type": "stream",
     "text": [
      "sdfsdf\n"
     ]
    }
   ],
   "source": [
    "fun()"
   ]
  },
  {
   "cell_type": "code",
   "execution_count": 16,
   "metadata": {
    "collapsed": false
   },
   "outputs": [
    {
     "name": "stdout",
     "output_type": "stream",
     "text": [
      "program started\n",
      "some statements\n",
      "a=10, b=20\n",
      "summation= 30\n",
      "st1\n",
      "st2\n",
      "a=100, b=200\n",
      "summation= 300\n",
      "st3\n",
      "some other statements\n",
      "st4\n",
      "a=2000, b=1000\n",
      "summation= 3000\n",
      "program ended\n"
     ]
    }
   ],
   "source": [
    "print \"program started\"\n",
    "print \"some statements\"\n",
    "a=10\n",
    "b=20\n",
    "res=a+b\n",
    "print \"a=%s, b=%s\"%(a,b)\n",
    "print \"summation=\",res\n",
    "print \"st1\"\n",
    "print \"st2\"\n",
    "c=100\n",
    "d=200\n",
    "res=c+d\n",
    "print \"a=%s, b=%s\"%(c,d)\n",
    "print \"summation=\",res\n",
    "print \"st3\"\n",
    "print \"some other statements\"\n",
    "print \"st4\"\n",
    "f=1000\n",
    "e=2000\n",
    "res=e+f\n",
    "print \"a=%s, b=%s\"%(e,f)\n",
    "print \"summation=\",res\n",
    "print \"program ended\""
   ]
  },
  {
   "cell_type": "code",
   "execution_count": 17,
   "metadata": {
    "collapsed": false
   },
   "outputs": [
    {
     "name": "stdout",
     "output_type": "stream",
     "text": [
      "program started\n",
      "some statements\n",
      "a=10, b=20\n",
      "summation= 30\n",
      "st1\n",
      "st2\n",
      "a=100, b=200\n",
      "summation= 300\n",
      "st3\n",
      "some other statements\n",
      "st4\n",
      "a=100, b=200\n",
      "summation= 300\n",
      "program ended\n"
     ]
    }
   ],
   "source": [
    "\"\"\"\n",
    "\n",
    "\"\"\"\n",
    "def fun(a,b):\n",
    "    res=a+b\n",
    "    print \"a=%s, b=%s\"%(a,b)\n",
    "    print \"summation=\",res\n",
    "    \n",
    "print \"program started\"\n",
    "print \"some statements\"\n",
    "fun(10,20)\n",
    "print \"st1\"\n",
    "print \"st2\"\n",
    "fun(100,200)\n",
    "print \"st3\"\n",
    "print \"some other statements\"\n",
    "print \"st4\"\n",
    "fun(100,200)\n",
    "print \"program ended\""
   ]
  },
  {
   "cell_type": "code",
   "execution_count": null,
   "metadata": {
    "collapsed": true
   },
   "outputs": [],
   "source": [
    "#400\n",
    "a=raw_input(\"Enter a data:\")\n",
    "# 400+20=420\n",
    "#;;;;;;;;;;;;;;;;;;;;\n",
    "\n",
    "#400\n",
    "def fun():\n",
    "    a=raw_input(\"Enter a data:\")\n",
    "    return a\n",
    "fun()\n",
    "# 400+20+3=423"
   ]
  },
  {
   "cell_type": "code",
   "execution_count": null,
   "metadata": {
    "collapsed": true
   },
   "outputs": [],
   "source": [
    "learning python edition 5.pdf\n",
    "9676622"
   ]
  }
 ],
 "metadata": {
  "kernelspec": {
   "display_name": "Python 2",
   "language": "python",
   "name": "python2"
  },
  "language_info": {
   "codemirror_mode": {
    "name": "ipython",
    "version": 2
   },
   "file_extension": ".py",
   "mimetype": "text/x-python",
   "name": "python",
   "nbconvert_exporter": "python",
   "pygments_lexer": "ipython2",
   "version": "2.7.13"
  }
 },
 "nbformat": 4,
 "nbformat_minor": 2
}
