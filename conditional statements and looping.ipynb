{
 "cells": [
  {
   "cell_type": "code",
   "execution_count": 1,
   "metadata": {
    "collapsed": false
   },
   "outputs": [
    {
     "name": "stdout",
     "output_type": "stream",
     "text": [
      "program strted\n",
      "Enter a value:50\n",
      "Enter b value:1\n",
      "50 is big\n",
      "other statements in program\n",
      "program ended\n"
     ]
    }
   ],
   "source": [
    "print \"program strted\"\n",
    "a=raw_input(\"Enter a value:\")\n",
    "b=raw_input(\"Enter b value:\")\n",
    "if a>b:\n",
    "    print \"%s is big\"%a\n",
    "else:\n",
    "    print \"%s is big\"%b\n",
    "\n",
    "print \"other statements in program\"\n",
    "print \"program ended\""
   ]
  },
  {
   "cell_type": "code",
   "execution_count": 2,
   "metadata": {
    "collapsed": false
   },
   "outputs": [
    {
     "name": "stdout",
     "output_type": "stream",
     "text": [
      "program strted\n",
      "Enter a value:1000\n",
      "Enter b value:5\n",
      "5 is big\n",
      "other statements in program\n",
      "program ended\n"
     ]
    }
   ],
   "source": [
    "print \"program strted\"\n",
    "a=raw_input(\"Enter a value:\")\n",
    "b=raw_input(\"Enter b value:\")\n",
    "if a>b:\n",
    "    print \"%s is big\"%a\n",
    "else:\n",
    "    print \"%s is big\"%b\n",
    "\n",
    "print \"other statements in program\"\n",
    "print \"program ended\""
   ]
  },
  {
   "cell_type": "code",
   "execution_count": 3,
   "metadata": {
    "collapsed": false
   },
   "outputs": [
    {
     "name": "stdout",
     "output_type": "stream",
     "text": [
      "program strted\n",
      "Enter a value:12\n",
      "Enter b value:2000\n",
      "2000 is big\n",
      "other statements in program\n",
      "program ended\n"
     ]
    }
   ],
   "source": [
    "print \"program strted\"\n",
    "a=raw_input(\"Enter a value:\")\n",
    "b=raw_input(\"Enter b value:\")\n",
    "a=int(a)\n",
    "b=int(b)\n",
    "if a>b:\n",
    "    print \"%s is big\"%a\n",
    "else:\n",
    "    print \"%s is big\"%b\n",
    "\n",
    "print \"other statements in program\"\n",
    "print \"program ended\""
   ]
  },
  {
   "cell_type": "code",
   "execution_count": 4,
   "metadata": {
    "collapsed": false
   },
   "outputs": [
    {
     "name": "stdout",
     "output_type": "stream",
     "text": [
      "program strted\n",
      "Enter a value:1000\n",
      "Enter b value:5\n",
      "1000 is big\n",
      "other statements in program\n",
      "program ended\n"
     ]
    }
   ],
   "source": [
    "print \"program strted\"\n",
    "a=raw_input(\"Enter a value:\")\n",
    "b=raw_input(\"Enter b value:\")\n",
    "a=int(a)\n",
    "b=int(b)\n",
    "if a>b:\n",
    "    print \"%s is big\"%a\n",
    "else:\n",
    "    print \"%s is big\"%b\n",
    "\n",
    "print \"other statements in program\"\n",
    "print \"program ended\""
   ]
  },
  {
   "cell_type": "code",
   "execution_count": 5,
   "metadata": {
    "collapsed": false
   },
   "outputs": [
    {
     "name": "stdout",
     "output_type": "stream",
     "text": [
      "Mobile phones\n",
      "\t1. Android\n",
      "\t2. windows\n",
      "\t3. IOS\n"
     ]
    }
   ],
   "source": [
    "\"\"\"\n",
    "Mobile phones\n",
    "    1. Android\n",
    "    2. windows\n",
    "    3. IOS\n",
    "\"\"\"\n",
    "\n",
    "print \"Mobile phones\\n\\t1. Android\\n\\t2. windows\\n\\t3. IOS\""
   ]
  },
  {
   "cell_type": "code",
   "execution_count": null,
   "metadata": {
    "collapsed": true
   },
   "outputs": [],
   "source": [
    "\"\"\"\n",
    "Mobile phones\n",
    "    1. Android\n",
    "    2. windows\n",
    "    3. IOS\n",
    "\"\"\"\n",
    "print \"Mobile phones\\n\\t1. Android\\n\\t2. windows\\n\\t3. IOS\"\n",
    "opt=raw_input(\"Enter an option:\")\n",
    "if opt==1:\n",
    "    print \"GOTO First floor\"\n",
    "if opt==2:\n",
    "    print \"GOTO second floor\"\n",
    "if opt==3:\n",
    "    print \"GOTO third floor\"\n",
    "print \"other statements in program\"\n",
    "print \"program ended\""
   ]
  },
  {
   "cell_type": "code",
   "execution_count": 6,
   "metadata": {
    "collapsed": false
   },
   "outputs": [
    {
     "data": {
      "text/plain": [
       "False"
      ]
     },
     "execution_count": 6,
     "metadata": {},
     "output_type": "execute_result"
    }
   ],
   "source": [
    "1==\"1\""
   ]
  },
  {
   "cell_type": "code",
   "execution_count": 7,
   "metadata": {
    "collapsed": false
   },
   "outputs": [
    {
     "name": "stdout",
     "output_type": "stream",
     "text": [
      "Mobile phones\n",
      "\t1. Android\n",
      "\t2. windows\n",
      "\t3. IOS\n",
      "Enter an option:1\n",
      "GOTO First floor\n",
      "other statements in program\n",
      "program ended\n"
     ]
    }
   ],
   "source": [
    "\"\"\"\n",
    "Mobile phones\n",
    "    1. Android\n",
    "    2. windows\n",
    "    3. IOS\n",
    "\"\"\"\n",
    "print \"Mobile phones\\n\\t1. Android\\n\\t2. windows\\n\\t3. IOS\"\n",
    "opt=raw_input(\"Enter an option:\")\n",
    "if opt=='1':\n",
    "    print \"GOTO First floor\"\n",
    "if opt=='2':\n",
    "    print \"GOTO second floor\"\n",
    "if opt=='3':\n",
    "    print \"GOTO third floor\"\n",
    "print \"other statements in program\"\n",
    "print \"program ended\""
   ]
  },
  {
   "cell_type": "code",
   "execution_count": 8,
   "metadata": {
    "collapsed": false
   },
   "outputs": [
    {
     "name": "stdout",
     "output_type": "stream",
     "text": [
      "Mobile phones\n",
      "\t1. Android\n",
      "\t2. windows\n",
      "\t3. IOS\n",
      "Enter an option:2\n",
      "GOTO second floor\n",
      "other statements in program\n",
      "program ended\n"
     ]
    }
   ],
   "source": [
    "\"\"\"\n",
    "Mobile phones\n",
    "    1. Android\n",
    "    2. windows\n",
    "    3. IOS\n",
    "\"\"\"\n",
    "print \"Mobile phones\\n\\t1. Android\\n\\t2. windows\\n\\t3. IOS\"\n",
    "opt=raw_input(\"Enter an option:\")\n",
    "if opt=='1':\n",
    "    print \"GOTO First floor\"\n",
    "if opt=='2':\n",
    "    print \"GOTO second floor\"\n",
    "if opt=='3':\n",
    "    print \"GOTO third floor\"\n",
    "print \"other statements in program\"\n",
    "print \"program ended\""
   ]
  },
  {
   "cell_type": "code",
   "execution_count": 9,
   "metadata": {
    "collapsed": false
   },
   "outputs": [
    {
     "name": "stdout",
     "output_type": "stream",
     "text": [
      "Mobile phones\n",
      "\t1. Android\n",
      "\t2. windows\n",
      "\t3. IOS\n",
      "Enter an option:3\n",
      "GOTO third floor\n",
      "other statements in program\n",
      "program ended\n"
     ]
    }
   ],
   "source": [
    "\"\"\"\n",
    "Mobile phones\n",
    "    1. Android\n",
    "    2. windows\n",
    "    3. IOS\n",
    "\"\"\"\n",
    "print \"Mobile phones\\n\\t1. Android\\n\\t2. windows\\n\\t3. IOS\"\n",
    "opt=raw_input(\"Enter an option:\")\n",
    "if opt=='1':\n",
    "    print \"GOTO First floor\"\n",
    "if opt=='2':\n",
    "    print \"GOTO second floor\"\n",
    "if opt=='3':\n",
    "    print \"GOTO third floor\"\n",
    "print \"other statements in program\"\n",
    "print \"program ended\""
   ]
  },
  {
   "cell_type": "code",
   "execution_count": 10,
   "metadata": {
    "collapsed": false
   },
   "outputs": [
    {
     "name": "stdout",
     "output_type": "stream",
     "text": [
      "Mobile phones\n",
      "\t1. Android\n",
      "\t2. windows\n",
      "\t3. IOS\n",
      "Enter an option:4\n",
      "other statements in program\n",
      "program ended\n"
     ]
    }
   ],
   "source": [
    "\"\"\"\n",
    "Mobile phones\n",
    "    1. Android\n",
    "    2. windows\n",
    "    3. IOS\n",
    "\"\"\"\n",
    "print \"Mobile phones\\n\\t1. Android\\n\\t2. windows\\n\\t3. IOS\"\n",
    "opt=raw_input(\"Enter an option:\")\n",
    "if opt=='1':\n",
    "    print \"GOTO First floor\"\n",
    "if opt=='2':\n",
    "    print \"GOTO second floor\"\n",
    "if opt=='3':\n",
    "    print \"GOTO third floor\"\n",
    "print \"other statements in program\"\n",
    "print \"program ended\""
   ]
  },
  {
   "cell_type": "code",
   "execution_count": 11,
   "metadata": {
    "collapsed": false
   },
   "outputs": [
    {
     "name": "stdout",
     "output_type": "stream",
     "text": [
      "Mobile phones\n",
      "\t1. Android\n",
      "\t2. windows\n",
      "\t3. IOS\n",
      "Enter an option:5\n",
      "wrong option\n",
      "other statements in program\n",
      "program ended\n"
     ]
    }
   ],
   "source": [
    "\"\"\"\n",
    "Mobile phones\n",
    "    1. Android\n",
    "    2. windows\n",
    "    3. IOS\n",
    "\"\"\"\n",
    "print \"Mobile phones\\n\\t1. Android\\n\\t2. windows\\n\\t3. IOS\"\n",
    "opt=raw_input(\"Enter an option:\")\n",
    "if opt<'4':\n",
    "    if opt=='1':\n",
    "        print \"GOTO First floor\"\n",
    "    if opt=='2':\n",
    "        print \"GOTO second floor\"\n",
    "    if opt=='3':\n",
    "        print \"GOTO third floor\"\n",
    "else:\n",
    "    print \"wrong option\"\n",
    "\n",
    "print \"other statements in program\"\n",
    "print \"program ended\""
   ]
  },
  {
   "cell_type": "code",
   "execution_count": 12,
   "metadata": {
    "collapsed": false
   },
   "outputs": [
    {
     "name": "stdout",
     "output_type": "stream",
     "text": [
      "Mobile phones\n",
      "\t1. Android\n",
      "\t2. windows\n",
      "\t3. IOS\n",
      "Enter an option:-10\n",
      "other statements in program\n",
      "program ended\n"
     ]
    }
   ],
   "source": [
    "\"\"\"\n",
    "Mobile phones\n",
    "    1. Android\n",
    "    2. windows\n",
    "    3. IOS\n",
    "\"\"\"\n",
    "print \"Mobile phones\\n\\t1. Android\\n\\t2. windows\\n\\t3. IOS\"\n",
    "opt=raw_input(\"Enter an option:\")\n",
    "if opt<'4':\n",
    "    if opt=='1':\n",
    "        print \"GOTO First floor\"\n",
    "    if opt=='2':\n",
    "        print \"GOTO second floor\"\n",
    "    if opt=='3':\n",
    "        print \"GOTO third floor\"\n",
    "else:\n",
    "    print \"wrong option\"\n",
    "\n",
    "print \"other statements in program\"\n",
    "print \"program ended\""
   ]
  },
  {
   "cell_type": "code",
   "execution_count": 13,
   "metadata": {
    "collapsed": false
   },
   "outputs": [
    {
     "name": "stdout",
     "output_type": "stream",
     "text": [
      "Mobile phones\n",
      "\t1. Android\n",
      "\t2. windows\n",
      "\t3. IOS\n",
      "Enter an option:-10\n",
      "wrong option\n",
      "other statements in program\n",
      "program ended\n"
     ]
    }
   ],
   "source": [
    "\"\"\"\n",
    "Mobile phones\n",
    "    1. Android\n",
    "    2. windows\n",
    "    3. IOS\n",
    "\"\"\"\n",
    "print \"Mobile phones\\n\\t1. Android\\n\\t2. windows\\n\\t3. IOS\"\n",
    "opt=raw_input(\"Enter an option:\")\n",
    "if opt<'4' and opt>'0':\n",
    "    if opt=='1':\n",
    "        print \"GOTO First floor\"\n",
    "    if opt=='2':\n",
    "        print \"GOTO second floor\"\n",
    "    if opt=='3':\n",
    "        print \"GOTO third floor\"\n",
    "else:\n",
    "    print \"wrong option\"\n",
    "\n",
    "print \"other statements in program\"\n",
    "print \"program ended\""
   ]
  },
  {
   "cell_type": "code",
   "execution_count": 14,
   "metadata": {
    "collapsed": false
   },
   "outputs": [
    {
     "name": "stdout",
     "output_type": "stream",
     "text": [
      "Mobile phones\n",
      "\t1. Android\n",
      "\t2. windows\n",
      "\t3. IOS\n",
      "Enter an option:$\n",
      "wrong option\n",
      "other statements in program\n",
      "program ended\n"
     ]
    }
   ],
   "source": [
    "\"\"\"\n",
    "Mobile phones\n",
    "    1. Android\n",
    "    2. windows\n",
    "    3. IOS\n",
    "\"\"\"\n",
    "print \"Mobile phones\\n\\t1. Android\\n\\t2. windows\\n\\t3. IOS\"\n",
    "opt=raw_input(\"Enter an option:\")\n",
    "if opt<'4' and opt>'0':\n",
    "    if opt=='1':\n",
    "        print \"GOTO First floor\"\n",
    "    if opt=='2':\n",
    "        print \"GOTO second floor\"\n",
    "    if opt=='3':\n",
    "        print \"GOTO third floor\"\n",
    "else:\n",
    "    print \"wrong option\"\n",
    "\n",
    "print \"other statements in program\"\n",
    "print \"program ended\""
   ]
  },
  {
   "cell_type": "code",
   "execution_count": 15,
   "metadata": {
    "collapsed": false
   },
   "outputs": [
    {
     "name": "stdout",
     "output_type": "stream",
     "text": [
      "Mobile phones\n",
      "\t1. Android\n",
      "\t2. windows\n",
      "\t3. IOS\n",
      "Enter an option:0.1\n",
      "other statements in program\n",
      "program ended\n"
     ]
    }
   ],
   "source": [
    "\"\"\"\n",
    "Mobile phones\n",
    "    1. Android\n",
    "    2. windows\n",
    "    3. IOS\n",
    "\"\"\"\n",
    "print \"Mobile phones\\n\\t1. Android\\n\\t2. windows\\n\\t3. IOS\"\n",
    "opt=raw_input(\"Enter an option:\")\n",
    "if opt<'4' and opt>'0':\n",
    "    if opt=='1':\n",
    "        print \"GOTO First floor\"\n",
    "    if opt=='2':\n",
    "        print \"GOTO second floor\"\n",
    "    if opt=='3':\n",
    "        print \"GOTO third floor\"\n",
    "else:\n",
    "    print \"wrong option\"\n",
    "\n",
    "print \"other statements in program\"\n",
    "print \"program ended\""
   ]
  },
  {
   "cell_type": "code",
   "execution_count": 16,
   "metadata": {
    "collapsed": false
   },
   "outputs": [
    {
     "name": "stdout",
     "output_type": "stream",
     "text": [
      "Mobile phones\n",
      "\t1. Android\n",
      "\t2. windows\n",
      "\t3. IOS\n",
      "Enter an option:Android\n",
      "GOTO First floor\n",
      "other statements in program\n",
      "program ended\n"
     ]
    }
   ],
   "source": [
    "print \"Mobile phones\\n\\t1. Android\\n\\t2. windows\\n\\t3. IOS\"\n",
    "opt=raw_input(\"Enter an option:\")\n",
    "if opt=='Android':\n",
    "    print \"GOTO First floor\"\n",
    "if opt=='windows':\n",
    "    print \"GOTO second floor\"\n",
    "if opt=='IOS':\n",
    "    print \"GOTO third floor\"\n",
    "print \"other statements in program\"\n",
    "print \"program ended\""
   ]
  },
  {
   "cell_type": "code",
   "execution_count": 17,
   "metadata": {
    "collapsed": false
   },
   "outputs": [
    {
     "name": "stdout",
     "output_type": "stream",
     "text": [
      "Mobile phones\n",
      "\t1. Android\n",
      "\t2. windows\n",
      "\t3. IOS\n",
      "Enter an option:Adroid\n",
      "other statements in program\n",
      "program ended\n"
     ]
    }
   ],
   "source": [
    "print \"Mobile phones\\n\\t1. Android\\n\\t2. windows\\n\\t3. IOS\"\n",
    "opt=raw_input(\"Enter an option:\")\n",
    "if opt=='Android':\n",
    "    print \"GOTO First floor\"\n",
    "if opt=='windows':\n",
    "    print \"GOTO second floor\"\n",
    "if opt=='IOS':\n",
    "    print \"GOTO third floor\"\n",
    "print \"other statements in program\"\n",
    "print \"program ended\""
   ]
  },
  {
   "cell_type": "code",
   "execution_count": 18,
   "metadata": {
    "collapsed": false
   },
   "outputs": [
    {
     "name": "stdout",
     "output_type": "stream",
     "text": [
      "Mobile phones\n",
      "\t1. Android\n",
      "\t2. windows\n",
      "\t3. IOS\n",
      "Enter an option:4\n",
      "wrong option.\n",
      "other statements in program\n",
      "program ended\n"
     ]
    }
   ],
   "source": [
    "\"\"\"\n",
    "Mobile phones\n",
    "    1. Android\n",
    "    2. windows\n",
    "    3. IOS\n",
    "\"\"\"\n",
    "print \"Mobile phones\\n\\t1. Android\\n\\t2. windows\\n\\t3. IOS\"\n",
    "opt=raw_input(\"Enter an option:\")\n",
    "if opt=='1':\n",
    "    print \"GOTO First floor\"\n",
    "if opt=='2':\n",
    "    print \"GOTO second floor\"\n",
    "if opt=='3':\n",
    "    print \"GOTO third floor\"\n",
    "else:\n",
    "    print \"wrong option.\"\n",
    "print \"other statements in program\"\n",
    "print \"program ended\""
   ]
  },
  {
   "cell_type": "code",
   "execution_count": 19,
   "metadata": {
    "collapsed": false
   },
   "outputs": [
    {
     "name": "stdout",
     "output_type": "stream",
     "text": [
      "Mobile phones\n",
      "\t1. Android\n",
      "\t2. windows\n",
      "\t3. IOS\n",
      "Enter an option:3\n",
      "GOTO third floor\n",
      "other statements in program\n",
      "program ended\n"
     ]
    }
   ],
   "source": [
    "\"\"\"\n",
    "Mobile phones\n",
    "    1. Android\n",
    "    2. windows\n",
    "    3. IOS\n",
    "\"\"\"\n",
    "print \"Mobile phones\\n\\t1. Android\\n\\t2. windows\\n\\t3. IOS\"\n",
    "opt=raw_input(\"Enter an option:\")\n",
    "if opt=='1':\n",
    "    print \"GOTO First floor\"\n",
    "if opt=='2':\n",
    "    print \"GOTO second floor\"\n",
    "if opt=='3':\n",
    "    print \"GOTO third floor\"\n",
    "else:\n",
    "    print \"wrong option.\"\n",
    "print \"other statements in program\"\n",
    "print \"program ended\""
   ]
  },
  {
   "cell_type": "code",
   "execution_count": 20,
   "metadata": {
    "collapsed": false
   },
   "outputs": [
    {
     "name": "stdout",
     "output_type": "stream",
     "text": [
      "Mobile phones\n",
      "\t1. Android\n",
      "\t2. windows\n",
      "\t3. IOS\n",
      "Enter an option:2\n",
      "GOTO second floor\n",
      "wrong option.\n",
      "other statements in program\n",
      "program ended\n"
     ]
    }
   ],
   "source": [
    "\"\"\"\n",
    "Mobile phones\n",
    "    1. Android\n",
    "    2. windows\n",
    "    3. IOS\n",
    "\"\"\"\n",
    "print \"Mobile phones\\n\\t1. Android\\n\\t2. windows\\n\\t3. IOS\"\n",
    "opt=raw_input(\"Enter an option:\")\n",
    "if opt=='1':\n",
    "    print \"GOTO First floor\"\n",
    "if opt=='2':\n",
    "    print \"GOTO second floor\"\n",
    "if opt=='3':\n",
    "    print \"GOTO third floor\"\n",
    "else:\n",
    "    print \"wrong option.\"\n",
    "print \"other statements in program\"\n",
    "print \"program ended\""
   ]
  },
  {
   "cell_type": "code",
   "execution_count": 21,
   "metadata": {
    "collapsed": false
   },
   "outputs": [
    {
     "name": "stdout",
     "output_type": "stream",
     "text": [
      "Mobile phones\n",
      "\t1. Android\n",
      "\t2. windows\n",
      "\t3. IOS\n",
      "Enter an option:2\n",
      "GOTO second floor\n",
      "other statements in program\n",
      "program ended\n"
     ]
    }
   ],
   "source": [
    "\"\"\"\n",
    "Mobile phones\n",
    "    1. Android\n",
    "    2. windows\n",
    "    3. IOS\n",
    "\"\"\"\n",
    "print \"Mobile phones\\n\\t1. Android\\n\\t2. windows\\n\\t3. IOS\"\n",
    "opt=raw_input(\"Enter an option:\")\n",
    "if opt=='1':\n",
    "    print \"GOTO First floor\"\n",
    "elif opt=='2':\n",
    "    print \"GOTO second floor\"\n",
    "elif opt=='3':\n",
    "    print \"GOTO third floor\"\n",
    "else:\n",
    "    print \"wrong option.\"\n",
    "print \"other statements in program\"\n",
    "print \"program ended\""
   ]
  },
  {
   "cell_type": "code",
   "execution_count": 22,
   "metadata": {
    "collapsed": false
   },
   "outputs": [
    {
     "name": "stdout",
     "output_type": "stream",
     "text": [
      "Mobile phones\n",
      "\t1. Android\n",
      "\t2. windows\n",
      "\t3. IOS\n",
      "Enter an option:5\n",
      "wrong option.\n",
      "other statements in program\n",
      "program ended\n"
     ]
    }
   ],
   "source": [
    "\"\"\"\n",
    "Mobile phones\n",
    "    1. Android\n",
    "    2. windows\n",
    "    3. IOS\n",
    "\"\"\"\n",
    "print \"Mobile phones\\n\\t1. Android\\n\\t2. windows\\n\\t3. IOS\"\n",
    "opt=raw_input(\"Enter an option:\")\n",
    "if opt=='1':\n",
    "    print \"GOTO First floor\"\n",
    "elif opt=='2':\n",
    "    print \"GOTO second floor\"\n",
    "elif opt=='3':\n",
    "    print \"GOTO third floor\"\n",
    "else:\n",
    "    print \"wrong option.\"\n",
    "print \"other statements in program\"\n",
    "print \"program ended\""
   ]
  },
  {
   "cell_type": "code",
   "execution_count": 23,
   "metadata": {
    "collapsed": false
   },
   "outputs": [
    {
     "name": "stdout",
     "output_type": "stream",
     "text": [
      "Mobile phones\n",
      "\t1. Android\n",
      "\t2. windows\n",
      "\t3. IOS\n",
      "Enter an option:-10\n",
      "wrong option.\n",
      "other statements in program\n",
      "program ended\n"
     ]
    }
   ],
   "source": [
    "\"\"\"\n",
    "Mobile phones\n",
    "    1. Android\n",
    "    2. windows\n",
    "    3. IOS\n",
    "\"\"\"\n",
    "print \"Mobile phones\\n\\t1. Android\\n\\t2. windows\\n\\t3. IOS\"\n",
    "opt=raw_input(\"Enter an option:\")\n",
    "if opt=='1':\n",
    "    print \"GOTO First floor\"\n",
    "elif opt=='2':\n",
    "    print \"GOTO second floor\"\n",
    "elif opt=='3':\n",
    "    print \"GOTO third floor\"\n",
    "else:\n",
    "    print \"wrong option.\"\n",
    "print \"other statements in program\"\n",
    "print \"program ended\""
   ]
  },
  {
   "cell_type": "code",
   "execution_count": 24,
   "metadata": {
    "collapsed": false
   },
   "outputs": [
    {
     "name": "stdout",
     "output_type": "stream",
     "text": [
      "Mobile phones\n",
      "\t1. Android\n",
      "\t2. windows\n",
      "\t3. IOS\n",
      "Enter an option:0.1\n",
      "wrong option.\n",
      "other statements in program\n",
      "program ended\n"
     ]
    }
   ],
   "source": [
    "\"\"\"\n",
    "Mobile phones\n",
    "    1. Android\n",
    "    2. windows\n",
    "    3. IOS\n",
    "\"\"\"\n",
    "print \"Mobile phones\\n\\t1. Android\\n\\t2. windows\\n\\t3. IOS\"\n",
    "opt=raw_input(\"Enter an option:\")\n",
    "if opt=='1':\n",
    "    print \"GOTO First floor\"\n",
    "elif opt=='2':\n",
    "    print \"GOTO second floor\"\n",
    "elif opt=='3':\n",
    "    print \"GOTO third floor\"\n",
    "else:\n",
    "    print \"wrong option.\"\n",
    "print \"other statements in program\"\n",
    "print \"program ended\""
   ]
  },
  {
   "cell_type": "code",
   "execution_count": 25,
   "metadata": {
    "collapsed": false
   },
   "outputs": [
    {
     "name": "stdout",
     "output_type": "stream",
     "text": [
      "Mobile phones\n",
      "\t1. Android\n",
      "\t2. windows\n",
      "\t3. IOS\n",
      "Enter an option:\n",
      "wrong option.\n",
      "other statements in program\n",
      "program ended\n"
     ]
    }
   ],
   "source": [
    "\"\"\"\n",
    "Mobile phones\n",
    "    1. Android\n",
    "    2. windows\n",
    "    3. IOS\n",
    "\"\"\"\n",
    "print \"Mobile phones\\n\\t1. Android\\n\\t2. windows\\n\\t3. IOS\"\n",
    "opt=raw_input(\"Enter an option:\")\n",
    "if opt=='1':\n",
    "    print \"GOTO First floor\"\n",
    "elif opt=='2':\n",
    "    print \"GOTO second floor\"\n",
    "elif opt=='3':\n",
    "    print \"GOTO third floor\"\n",
    "else:\n",
    "    print \"wrong option.\"\n",
    "print \"other statements in program\"\n",
    "print \"program ended\""
   ]
  },
  {
   "cell_type": "code",
   "execution_count": 26,
   "metadata": {
    "collapsed": false
   },
   "outputs": [
    {
     "name": "stdout",
     "output_type": "stream",
     "text": [
      "Mobile phones\n",
      "\t1. Android\n",
      "\t2. windows\n",
      "\t3. IOS\n",
      "Enter an option:\n",
      "\n",
      "wrong option.\n",
      "other statements in program\n",
      "program ended\n"
     ]
    }
   ],
   "source": [
    "\"\"\"\n",
    "Mobile phones\n",
    "    1. Android\n",
    "    2. windows\n",
    "    3. IOS\n",
    "\"\"\"\n",
    "print \"Mobile phones\\n\\t1. Android\\n\\t2. windows\\n\\t3. IOS\"\n",
    "opt=raw_input(\"Enter an option:\")\n",
    "print opt\n",
    "if opt=='1':\n",
    "    print \"GOTO First floor\"\n",
    "elif opt=='2':\n",
    "    print \"GOTO second floor\"\n",
    "elif opt=='3':\n",
    "    print \"GOTO third floor\"\n",
    "else:\n",
    "    print \"wrong option.\"\n",
    "print \"other statements in program\"\n",
    "print \"program ended\""
   ]
  },
  {
   "cell_type": "code",
   "execution_count": 27,
   "metadata": {
    "collapsed": false
   },
   "outputs": [
    {
     "name": "stdout",
     "output_type": "stream",
     "text": [
      "Mobile phones\n",
      "\t1. Android\n",
      "\t2. windows\n",
      "\t3. IOS\n",
      "Enter an option:\n",
      "True\n",
      "wrong option.\n",
      "other statements in program\n",
      "program ended\n"
     ]
    }
   ],
   "source": [
    "\"\"\"\n",
    "Mobile phones\n",
    "    1. Android\n",
    "    2. windows\n",
    "    3. IOS\n",
    "\"\"\"\n",
    "print \"Mobile phones\\n\\t1. Android\\n\\t2. windows\\n\\t3. IOS\"\n",
    "opt=raw_input(\"Enter an option:\")\n",
    "print opt==\"\"\n",
    "if opt=='1':\n",
    "    print \"GOTO First floor\"\n",
    "elif opt=='2':\n",
    "    print \"GOTO second floor\"\n",
    "elif opt=='3':\n",
    "    print \"GOTO third floor\"\n",
    "else:\n",
    "    print \"wrong option.\"\n",
    "print \"other statements in program\"\n",
    "print \"program ended\""
   ]
  },
  {
   "cell_type": "code",
   "execution_count": 28,
   "metadata": {
    "collapsed": false
   },
   "outputs": [
    {
     "data": {
      "text/plain": [
       "False"
      ]
     },
     "execution_count": 28,
     "metadata": {},
     "output_type": "execute_result"
    }
   ],
   "source": [
    "a=10\n",
    "b=20\n",
    "a>b"
   ]
  },
  {
   "cell_type": "code",
   "execution_count": 29,
   "metadata": {
    "collapsed": false
   },
   "outputs": [
    {
     "data": {
      "text/plain": [
       "False"
      ]
     },
     "execution_count": 29,
     "metadata": {},
     "output_type": "execute_result"
    }
   ],
   "source": [
    "bool(a>b)"
   ]
  },
  {
   "cell_type": "code",
   "execution_count": 30,
   "metadata": {
    "collapsed": false
   },
   "outputs": [
    {
     "name": "stdout",
     "output_type": "stream",
     "text": [
      "b is big\n"
     ]
    }
   ],
   "source": [
    "if a>b:\n",
    "    print \"a is big\"\n",
    "else:\n",
    "    print \"b is big\""
   ]
  },
  {
   "cell_type": "code",
   "execution_count": 31,
   "metadata": {
    "collapsed": false
   },
   "outputs": [
    {
     "data": {
      "text/plain": [
       "True"
      ]
     },
     "execution_count": 31,
     "metadata": {},
     "output_type": "execute_result"
    }
   ],
   "source": [
    "a=10\n",
    "bool(a)"
   ]
  },
  {
   "cell_type": "code",
   "execution_count": 32,
   "metadata": {
    "collapsed": false
   },
   "outputs": [
    {
     "data": {
      "text/plain": [
       "True"
      ]
     },
     "execution_count": 32,
     "metadata": {},
     "output_type": "execute_result"
    }
   ],
   "source": [
    "bool(-10)"
   ]
  },
  {
   "cell_type": "code",
   "execution_count": 33,
   "metadata": {
    "collapsed": false
   },
   "outputs": [
    {
     "data": {
      "text/plain": [
       "False"
      ]
     },
     "execution_count": 33,
     "metadata": {},
     "output_type": "execute_result"
    }
   ],
   "source": [
    "bool(0)"
   ]
  },
  {
   "cell_type": "code",
   "execution_count": 34,
   "metadata": {
    "collapsed": false
   },
   "outputs": [
    {
     "name": "stdout",
     "output_type": "stream",
     "text": [
      "0 is flase\n"
     ]
    }
   ],
   "source": [
    "if 0:\n",
    "    print \"0 is True\"\n",
    "else:\n",
    "    print \"0 is flase\""
   ]
  },
  {
   "cell_type": "code",
   "execution_count": 35,
   "metadata": {
    "collapsed": false
   },
   "outputs": [
    {
     "name": "stdout",
     "output_type": "stream",
     "text": [
      "1 is True\n"
     ]
    }
   ],
   "source": [
    "if 1:\n",
    "    print \"1 is True\"\n",
    "else:\n",
    "    print \"1 is flase\""
   ]
  },
  {
   "cell_type": "code",
   "execution_count": 36,
   "metadata": {
    "collapsed": false
   },
   "outputs": [
    {
     "data": {
      "text/plain": [
       "True"
      ]
     },
     "execution_count": 36,
     "metadata": {},
     "output_type": "execute_result"
    }
   ],
   "source": [
    "bool(\"python\")"
   ]
  },
  {
   "cell_type": "code",
   "execution_count": 37,
   "metadata": {
    "collapsed": false
   },
   "outputs": [
    {
     "data": {
      "text/plain": [
       "False"
      ]
     },
     "execution_count": 37,
     "metadata": {},
     "output_type": "execute_result"
    }
   ],
   "source": [
    "bool(\"\")"
   ]
  },
  {
   "cell_type": "code",
   "execution_count": 38,
   "metadata": {
    "collapsed": false
   },
   "outputs": [
    {
     "data": {
      "text/plain": [
       "True"
      ]
     },
     "execution_count": 38,
     "metadata": {},
     "output_type": "execute_result"
    }
   ],
   "source": [
    "bool([1,2,3,4])"
   ]
  },
  {
   "cell_type": "code",
   "execution_count": 39,
   "metadata": {
    "collapsed": false
   },
   "outputs": [
    {
     "data": {
      "text/plain": [
       "False"
      ]
     },
     "execution_count": 39,
     "metadata": {},
     "output_type": "execute_result"
    }
   ],
   "source": [
    "bool([])"
   ]
  },
  {
   "cell_type": "code",
   "execution_count": 40,
   "metadata": {
    "collapsed": false
   },
   "outputs": [
    {
     "data": {
      "text/plain": [
       "False"
      ]
     },
     "execution_count": 40,
     "metadata": {},
     "output_type": "execute_result"
    }
   ],
   "source": [
    "bool(())"
   ]
  },
  {
   "cell_type": "code",
   "execution_count": 41,
   "metadata": {
    "collapsed": false
   },
   "outputs": [
    {
     "data": {
      "text/plain": [
       "False"
      ]
     },
     "execution_count": 41,
     "metadata": {},
     "output_type": "execute_result"
    }
   ],
   "source": [
    "bool({})"
   ]
  },
  {
   "cell_type": "code",
   "execution_count": 42,
   "metadata": {
    "collapsed": false
   },
   "outputs": [
    {
     "name": "stdout",
     "output_type": "stream",
     "text": [
      "Enter a value:sdgsdfgfd\n"
     ]
    }
   ],
   "source": [
    "inp = raw_input(\"Enter a value:\")\n"
   ]
  },
  {
   "cell_type": "code",
   "execution_count": 43,
   "metadata": {
    "collapsed": false
   },
   "outputs": [
    {
     "name": "stdout",
     "output_type": "stream",
     "text": [
      "Enter a value:\n"
     ]
    }
   ],
   "source": [
    "inp = raw_input(\"Enter a value:\")\n"
   ]
  },
  {
   "cell_type": "code",
   "execution_count": 44,
   "metadata": {
    "collapsed": false
   },
   "outputs": [
    {
     "name": "stdout",
     "output_type": "stream",
     "text": [
      "Enter a value:sdfsfsdf\n",
      "user entered:sdfsfsdf\n"
     ]
    }
   ],
   "source": [
    "inp = raw_input(\"Enter a value:\")\n",
    "if len(inp)>0:\n",
    "    print \"user entered:%s\"%inp\n",
    "else:\n",
    "    print \"Please enter a value\""
   ]
  },
  {
   "cell_type": "code",
   "execution_count": 45,
   "metadata": {
    "collapsed": false
   },
   "outputs": [
    {
     "name": "stdout",
     "output_type": "stream",
     "text": [
      "Enter a value:\n",
      "Please enter a value\n"
     ]
    }
   ],
   "source": [
    "inp = raw_input(\"Enter a value:\")\n",
    "if len(inp)>0:\n",
    "    print \"user entered:%s\"%inp\n",
    "else:\n",
    "    print \"Please enter a value\""
   ]
  },
  {
   "cell_type": "code",
   "execution_count": 46,
   "metadata": {
    "collapsed": false
   },
   "outputs": [
    {
     "name": "stdout",
     "output_type": "stream",
     "text": [
      "Enter a value:               \n",
      "user entered:               \n"
     ]
    }
   ],
   "source": [
    "inp = raw_input(\"Enter a value:\")\n",
    "if len(inp)>0:\n",
    "    print \"user entered:%s\"%inp\n",
    "else:\n",
    "    print \"Please enter a value\""
   ]
  },
  {
   "cell_type": "code",
   "execution_count": 47,
   "metadata": {
    "collapsed": false
   },
   "outputs": [
    {
     "name": "stdout",
     "output_type": "stream",
     "text": [
      "Enter a value:fsdfsdf\n",
      "user entered:fsdfsdf\n"
     ]
    }
   ],
   "source": [
    "inp = raw_input(\"Enter a value:\")\n",
    "if inp:\n",
    "    print \"user entered:%s\"%inp\n",
    "else:\n",
    "    print \"Please enter a value\""
   ]
  },
  {
   "cell_type": "code",
   "execution_count": 48,
   "metadata": {
    "collapsed": false
   },
   "outputs": [
    {
     "name": "stdout",
     "output_type": "stream",
     "text": [
      "Enter a value:\n",
      "Please enter a value\n"
     ]
    }
   ],
   "source": [
    "inp = raw_input(\"Enter a value:\")\n",
    "if inp:\n",
    "    print \"user entered:%s\"%inp\n",
    "else:\n",
    "    print \"Please enter a value\""
   ]
  },
  {
   "cell_type": "code",
   "execution_count": 49,
   "metadata": {
    "collapsed": false
   },
   "outputs": [
    {
     "name": "stdout",
     "output_type": "stream",
     "text": [
      "Enter a value:\n",
      "Please enter a value\n"
     ]
    }
   ],
   "source": [
    "inp = raw_input(\"Enter a value:\")\n",
    "if inp==\"\":\n",
    "    print \"Please enter a value\"\n",
    "else:\n",
    "    print \"user entered:%s\"%inp\n",
    "    "
   ]
  },
  {
   "cell_type": "code",
   "execution_count": 50,
   "metadata": {
    "collapsed": false
   },
   "outputs": [
    {
     "name": "stdout",
     "output_type": "stream",
     "text": [
      "Enter a value:asdff\n",
      "user entered:asdff\n"
     ]
    }
   ],
   "source": [
    "inp = raw_input(\"Enter a value:\")\n",
    "if inp==\"\":\n",
    "    print \"Please enter a value\"\n",
    "else:\n",
    "    print \"user entered:%s\"%inp\n",
    "    "
   ]
  },
  {
   "cell_type": "code",
   "execution_count": 51,
   "metadata": {
    "collapsed": false
   },
   "outputs": [
    {
     "name": "stdout",
     "output_type": "stream",
     "text": [
      "Enter a value:\n",
      "user entered:\n"
     ]
    }
   ],
   "source": [
    "inp = raw_input(\"Enter a value:\")\n",
    "if inp:\n",
    "    print \"Please enter a value\"\n",
    "else:\n",
    "    print \"user entered:%s\"%inp\n",
    "    "
   ]
  },
  {
   "cell_type": "code",
   "execution_count": 52,
   "metadata": {
    "collapsed": false
   },
   "outputs": [
    {
     "data": {
      "text/plain": [
       "False"
      ]
     },
     "execution_count": 52,
     "metadata": {},
     "output_type": "execute_result"
    }
   ],
   "source": [
    "bool(0)"
   ]
  },
  {
   "cell_type": "code",
   "execution_count": 53,
   "metadata": {
    "collapsed": false
   },
   "outputs": [
    {
     "data": {
      "text/plain": [
       "False"
      ]
     },
     "execution_count": 53,
     "metadata": {},
     "output_type": "execute_result"
    }
   ],
   "source": [
    "bool('')"
   ]
  },
  {
   "cell_type": "code",
   "execution_count": 54,
   "metadata": {
    "collapsed": false
   },
   "outputs": [
    {
     "data": {
      "text/plain": [
       "True"
      ]
     },
     "execution_count": 54,
     "metadata": {},
     "output_type": "execute_result"
    }
   ],
   "source": [
    "bool('0')"
   ]
  },
  {
   "cell_type": "code",
   "execution_count": 55,
   "metadata": {
    "collapsed": false
   },
   "outputs": [
    {
     "data": {
      "text/plain": [
       "True"
      ]
     },
     "execution_count": 55,
     "metadata": {},
     "output_type": "execute_result"
    }
   ],
   "source": [
    "bool(0.1)"
   ]
  },
  {
   "cell_type": "code",
   "execution_count": 56,
   "metadata": {
    "collapsed": false
   },
   "outputs": [
    {
     "data": {
      "text/plain": [
       "False"
      ]
     },
     "execution_count": 56,
     "metadata": {},
     "output_type": "execute_result"
    }
   ],
   "source": [
    "bool(0.0)"
   ]
  },
  {
   "cell_type": "code",
   "execution_count": 57,
   "metadata": {
    "collapsed": false
   },
   "outputs": [
    {
     "data": {
      "text/plain": [
       "False"
      ]
     },
     "execution_count": 57,
     "metadata": {},
     "output_type": "execute_result"
    }
   ],
   "source": [
    "bool([])"
   ]
  },
  {
   "cell_type": "code",
   "execution_count": 58,
   "metadata": {
    "collapsed": false
   },
   "outputs": [
    {
     "data": {
      "text/plain": [
       "True"
      ]
     },
     "execution_count": 58,
     "metadata": {},
     "output_type": "execute_result"
    }
   ],
   "source": [
    "bool([0])"
   ]
  },
  {
   "cell_type": "code",
   "execution_count": 59,
   "metadata": {
    "collapsed": false
   },
   "outputs": [
    {
     "data": {
      "text/plain": [
       "True"
      ]
     },
     "execution_count": 59,
     "metadata": {},
     "output_type": "execute_result"
    }
   ],
   "source": [
    "bool('0.0')"
   ]
  },
  {
   "cell_type": "code",
   "execution_count": 60,
   "metadata": {
    "collapsed": false
   },
   "outputs": [
    {
     "name": "stdout",
     "output_type": "stream",
     "text": [
      "True is True\n"
     ]
    }
   ],
   "source": [
    "if True:\n",
    "    print \"True is True\""
   ]
  },
  {
   "cell_type": "code",
   "execution_count": 61,
   "metadata": {
    "collapsed": true
   },
   "outputs": [],
   "source": [
    "if False:\n",
    "    print \"False is True\""
   ]
  },
  {
   "cell_type": "code",
   "execution_count": 62,
   "metadata": {
    "collapsed": false
   },
   "outputs": [
    {
     "ename": "SyntaxError",
     "evalue": "invalid syntax (<ipython-input-62-431b961483a7>, line 1)",
     "output_type": "error",
     "traceback": [
      "\u001b[0;36m  File \u001b[0;32m\"<ipython-input-62-431b961483a7>\"\u001b[0;36m, line \u001b[0;32m1\u001b[0m\n\u001b[0;31m    if ! False:\u001b[0m\n\u001b[0m       ^\u001b[0m\n\u001b[0;31mSyntaxError\u001b[0m\u001b[0;31m:\u001b[0m invalid syntax\n"
     ]
    }
   ],
   "source": [
    "if ! False:\n",
    "    print \"False is True\""
   ]
  },
  {
   "cell_type": "code",
   "execution_count": 63,
   "metadata": {
    "collapsed": false
   },
   "outputs": [
    {
     "name": "stdout",
     "output_type": "stream",
     "text": [
      "False is True\n"
     ]
    }
   ],
   "source": [
    "if not False:\n",
    "    print \"False is True\""
   ]
  },
  {
   "cell_type": "code",
   "execution_count": 64,
   "metadata": {
    "collapsed": true
   },
   "outputs": [],
   "source": [
    "if False != False:\n",
    "    print \"sdfsfsd\""
   ]
  },
  {
   "cell_type": "code",
   "execution_count": 65,
   "metadata": {
    "collapsed": false
   },
   "outputs": [
    {
     "name": "stdout",
     "output_type": "stream",
     "text": [
      "Enter a value:10\n",
      "Enter b value:23\n",
      "both are not equal\n"
     ]
    }
   ],
   "source": [
    "a=raw_input(\"Enter a value:\")\n",
    "b=raw_input(\"Enter b value:\")\n",
    "if a==b:\n",
    "    print \"both are equal\"\n",
    "else:\n",
    "    print \"both are not equal\""
   ]
  },
  {
   "cell_type": "code",
   "execution_count": 66,
   "metadata": {
    "collapsed": false
   },
   "outputs": [
    {
     "name": "stdout",
     "output_type": "stream",
     "text": [
      "Enter a value:10\n",
      "Enter b value:10\n",
      "both are equal\n"
     ]
    }
   ],
   "source": [
    "a=raw_input(\"Enter a value:\")\n",
    "b=raw_input(\"Enter b value:\")\n",
    "if a!=b:\n",
    "    print \"both are not equal\"\n",
    "    \n",
    "else:\n",
    "    print \"both are equal\"\n",
    "    "
   ]
  },
  {
   "cell_type": "code",
   "execution_count": null,
   "metadata": {
    "collapsed": true
   },
   "outputs": [],
   "source": [
    "print \"strated\"\n",
    "i=0\n",
    "while i<10:\n",
    "    print \"iteration started\"\n",
    "    print i\n",
    "    print \"iteration ended\"\n",
    "print \"other\"\n",
    "print \"ended\""
   ]
  },
  {
   "cell_type": "code",
   "execution_count": 67,
   "metadata": {
    "collapsed": false
   },
   "outputs": [
    {
     "name": "stdout",
     "output_type": "stream",
     "text": [
      "strated\n",
      "iteration started\n",
      "0\n",
      "iteration ended\n",
      "iteration started\n",
      "1\n",
      "iteration ended\n",
      "iteration started\n",
      "2\n",
      "iteration ended\n",
      "other\n",
      "ended\n"
     ]
    }
   ],
   "source": [
    "print \"strated\"\n",
    "i=0\n",
    "while i<3:\n",
    "    print \"iteration started\"\n",
    "    print i\n",
    "    i=i+1\n",
    "    print \"iteration ended\"\n",
    "print \"other\"\n",
    "print \"ended\""
   ]
  },
  {
   "cell_type": "code",
   "execution_count": 68,
   "metadata": {
    "collapsed": false
   },
   "outputs": [
    {
     "name": "stdout",
     "output_type": "stream",
     "text": [
      "strated\n",
      "iteration started\n",
      "0\n",
      "iteration ended\n",
      "iteration started\n",
      "1\n",
      "iteration ended\n",
      "iteration started\n",
      "2\n",
      "iteration ended\n",
      "other\n",
      "ended\n"
     ]
    }
   ],
   "source": [
    "print \"strated\"\n",
    "i=0\n",
    "while i<3:\n",
    "    print \"iteration started\"\n",
    "    print i\n",
    "    print \"iteration ended\"\n",
    "    i=i+1\n",
    "print \"other\"\n",
    "print \"ended\""
   ]
  },
  {
   "cell_type": "code",
   "execution_count": 69,
   "metadata": {
    "collapsed": false
   },
   "outputs": [
    {
     "name": "stdout",
     "output_type": "stream",
     "text": [
      "strated\n",
      "other\n",
      "ended\n"
     ]
    }
   ],
   "source": [
    "print \"strated\"\n",
    "i=0\n",
    "while i<-3:\n",
    "    print \"iteration started\"\n",
    "    print i\n",
    "    print \"iteration ended\"\n",
    "    i=i+1\n",
    "print \"other\"\n",
    "print \"ended\""
   ]
  },
  {
   "cell_type": "code",
   "execution_count": 70,
   "metadata": {
    "collapsed": false
   },
   "outputs": [
    {
     "name": "stdout",
     "output_type": "stream",
     "text": [
      "strated\n",
      "other\n",
      "ended\n"
     ]
    }
   ],
   "source": [
    "print \"strated\"\n",
    "i=0\n",
    "while i<-3:\n",
    "    print \"iteration started\"\n",
    "    print i\n",
    "    print \"iteration ended\"\n",
    "    i=i-1\n",
    "print \"other\"\n",
    "print \"ended\""
   ]
  },
  {
   "cell_type": "code",
   "execution_count": null,
   "metadata": {
    "collapsed": true
   },
   "outputs": [],
   "source": [
    "print \"strated\"\n",
    "i=0\n",
    "while i<3:\n",
    "    print \"iteration started\"\n",
    "    print i\n",
    "    print \"iteration ended\"\n",
    "i=i+1\n",
    "print \"other\"\n",
    "print \"ended\""
   ]
  },
  {
   "cell_type": "code",
   "execution_count": null,
   "metadata": {
    "collapsed": true
   },
   "outputs": [],
   "source": [
    "print \"strated\"\n",
    "i=0\n",
    "while i<3:\n",
    "    print \"iteration started\"\n",
    "    print i\n",
    "    print \"iteration ended\"\n",
    "    i=i-1\n",
    "print \"other\"\n",
    "print \"ended\""
   ]
  },
  {
   "cell_type": "code",
   "execution_count": 71,
   "metadata": {
    "collapsed": false
   },
   "outputs": [
    {
     "name": "stdout",
     "output_type": "stream",
     "text": [
      "strated\n",
      "other\n",
      "ended\n"
     ]
    }
   ],
   "source": [
    "print \"strated\"\n",
    "i=0\n",
    "while 0:\n",
    "    print \"iteration started\"\n",
    "    print i\n",
    "    print \"iteration ended\"\n",
    "    i=i+1\n",
    "print \"other\"\n",
    "print \"ended\""
   ]
  },
  {
   "cell_type": "code",
   "execution_count": 72,
   "metadata": {
    "collapsed": false
   },
   "outputs": [
    {
     "name": "stdout",
     "output_type": "stream",
     "text": [
      "strated\n",
      "other\n",
      "ended\n"
     ]
    }
   ],
   "source": [
    "print \"strated\"\n",
    "i=0\n",
    "while False:\n",
    "    print \"iteration started\"\n",
    "    print i\n",
    "    print \"iteration ended\"\n",
    "    i=i+1\n",
    "print \"other\"\n",
    "print \"ended\""
   ]
  },
  {
   "cell_type": "code",
   "execution_count": null,
   "metadata": {
    "collapsed": true
   },
   "outputs": [],
   "source": [
    "print \"strated\"\n",
    "i=0\n",
    "while \"python\":\n",
    "    print \"iteration started\"\n",
    "    print i\n",
    "    print \"iteration ended\"\n",
    "    i=i+1\n",
    "print \"other\"\n",
    "print \"ended\""
   ]
  },
  {
   "cell_type": "code",
   "execution_count": null,
   "metadata": {
    "collapsed": true
   },
   "outputs": [],
   "source": [
    "print \"strated\"\n",
    "i=0\n",
    "while 1:\n",
    "    print \"iteration started\"\n",
    "    print i\n",
    "    print \"iteration ended\"\n",
    "    i=i+1\n",
    "print \"other\"\n",
    "print \"ended\""
   ]
  },
  {
   "cell_type": "code",
   "execution_count": 73,
   "metadata": {
    "collapsed": false
   },
   "outputs": [
    {
     "name": "stdout",
     "output_type": "stream",
     "text": [
      "strated\n",
      "other\n",
      "ended\n"
     ]
    }
   ],
   "source": [
    "print \"strated\"\n",
    "i=0\n",
    "while None:\n",
    "    print \"iteration started\"\n",
    "    print i\n",
    "    print \"iteration ended\"\n",
    "    i=i+1\n",
    "print \"other\"\n",
    "print \"ended\""
   ]
  },
  {
   "cell_type": "code",
   "execution_count": 74,
   "metadata": {
    "collapsed": false
   },
   "outputs": [
    {
     "data": {
      "text/plain": [
       "False"
      ]
     },
     "execution_count": 74,
     "metadata": {},
     "output_type": "execute_result"
    }
   ],
   "source": [
    "bool(None)"
   ]
  },
  {
   "cell_type": "code",
   "execution_count": 75,
   "metadata": {
    "collapsed": false
   },
   "outputs": [
    {
     "name": "stdout",
     "output_type": "stream",
     "text": [
      "strated\n",
      "iter sta\n",
      "p\n",
      "itera ended\n",
      "iter sta\n",
      "y\n",
      "itera ended\n",
      "iter sta\n",
      "t\n",
      "itera ended\n",
      "iter sta\n",
      "h\n",
      "itera ended\n",
      "iter sta\n",
      "o\n",
      "itera ended\n",
      "iter sta\n",
      "n\n",
      "itera ended\n",
      "other\n",
      "ended\n"
     ]
    }
   ],
   "source": [
    "print \"strated\"\n",
    "for i in \"python\":\n",
    "    print \"iter sta\"\n",
    "    print i\n",
    "    print \"itera ended\"\n",
    "print \"other\"\n",
    "print \"ended\""
   ]
  },
  {
   "cell_type": "code",
   "execution_count": 76,
   "metadata": {
    "collapsed": false
   },
   "outputs": [
    {
     "name": "stdout",
     "output_type": "stream",
     "text": [
      "strated\n",
      "iter sta\n",
      "a\n",
      "itera ended\n",
      "iter sta\n",
      "b\n",
      "itera ended\n",
      "iter sta\n",
      "c\n",
      "itera ended\n",
      "other\n",
      "ended\n"
     ]
    }
   ],
   "source": [
    "print \"strated\"\n",
    "for i in \"abc\":\n",
    "    print \"iter sta\"\n",
    "    print i\n",
    "    print \"itera ended\"\n",
    "print \"other\"\n",
    "print \"ended\""
   ]
  },
  {
   "cell_type": "code",
   "execution_count": 77,
   "metadata": {
    "collapsed": false
   },
   "outputs": [
    {
     "name": "stdout",
     "output_type": "stream",
     "text": [
      "strated\n"
     ]
    },
    {
     "ename": "TypeError",
     "evalue": "'int' object is not iterable",
     "output_type": "error",
     "traceback": [
      "\u001b[0;31m---------------------------------------------------------------------------\u001b[0m",
      "\u001b[0;31mTypeError\u001b[0m                                 Traceback (most recent call last)",
      "\u001b[0;32m<ipython-input-77-a6225a4f4991>\u001b[0m in \u001b[0;36m<module>\u001b[0;34m()\u001b[0m\n\u001b[1;32m      1\u001b[0m \u001b[0;32mprint\u001b[0m \u001b[0;34m\"strated\"\u001b[0m\u001b[0;34m\u001b[0m\u001b[0m\n\u001b[0;32m----> 2\u001b[0;31m \u001b[0;32mfor\u001b[0m \u001b[0mi\u001b[0m \u001b[0;32min\u001b[0m \u001b[0;36m12234234\u001b[0m\u001b[0;34m:\u001b[0m\u001b[0;34m\u001b[0m\u001b[0m\n\u001b[0m\u001b[1;32m      3\u001b[0m     \u001b[0;32mprint\u001b[0m \u001b[0;34m\"iter sta\"\u001b[0m\u001b[0;34m\u001b[0m\u001b[0m\n\u001b[1;32m      4\u001b[0m     \u001b[0;32mprint\u001b[0m \u001b[0mi\u001b[0m\u001b[0;34m\u001b[0m\u001b[0m\n\u001b[1;32m      5\u001b[0m     \u001b[0;32mprint\u001b[0m \u001b[0;34m\"itera ended\"\u001b[0m\u001b[0;34m\u001b[0m\u001b[0m\n",
      "\u001b[0;31mTypeError\u001b[0m: 'int' object is not iterable"
     ]
    }
   ],
   "source": [
    "print \"strated\"\n",
    "for i in 12234234:\n",
    "    print \"iter sta\"\n",
    "    print i\n",
    "    print \"itera ended\"\n",
    "print \"other\"\n",
    "print \"ended\""
   ]
  },
  {
   "cell_type": "code",
   "execution_count": 78,
   "metadata": {
    "collapsed": false
   },
   "outputs": [
    {
     "name": "stdout",
     "output_type": "stream",
     "text": [
      "strated\n",
      "iter sta\n",
      "p1\n",
      "itera ended\n",
      "iter sta\n",
      "p2\n",
      "itera ended\n",
      "iter sta\n",
      "p3\n",
      "itera ended\n",
      "iter sta\n",
      "p4\n",
      "itera ended\n",
      "other\n",
      "ended\n"
     ]
    }
   ],
   "source": [
    "print \"strated\"\n",
    "persons = ['p1','p2','p3','p4']\n",
    "for i in persons:\n",
    "    print \"iter sta\"\n",
    "    print i\n",
    "    print \"itera ended\"\n",
    "print \"other\"\n",
    "print \"ended\""
   ]
  },
  {
   "cell_type": "code",
   "execution_count": 79,
   "metadata": {
    "collapsed": false
   },
   "outputs": [
    {
     "name": "stdout",
     "output_type": "stream",
     "text": [
      "strated\n",
      "iter sta\n",
      "0\n",
      "itera ended\n",
      "iter sta\n",
      "1\n",
      "itera ended\n",
      "iter sta\n",
      "2\n",
      "itera ended\n",
      "iter sta\n",
      "3\n",
      "itera ended\n",
      "iter sta\n",
      "4\n",
      "itera ended\n",
      "iter sta\n",
      "5\n",
      "itera ended\n",
      "iter sta\n",
      "6\n",
      "itera ended\n",
      "iter sta\n",
      "7\n",
      "itera ended\n",
      "iter sta\n",
      "8\n",
      "itera ended\n",
      "iter sta\n",
      "9\n",
      "itera ended\n",
      "iter sta\n",
      "10\n",
      "itera ended\n",
      "other\n",
      "ended\n"
     ]
    }
   ],
   "source": [
    "print \"strated\"\n",
    "persons = ['p1','p2','p3','p4']\n",
    "for i in [0,1,2,3,4,5,6,7,8,9,10]:\n",
    "    print \"iter sta\"\n",
    "    print i\n",
    "    print \"itera ended\"\n",
    "print \"other\"\n",
    "print \"ended\""
   ]
  },
  {
   "cell_type": "code",
   "execution_count": 80,
   "metadata": {
    "collapsed": false
   },
   "outputs": [
    {
     "data": {
      "text/plain": [
       "[0, 1, 2, 3, 4, 5, 6, 7, 8, 9]"
      ]
     },
     "execution_count": 80,
     "metadata": {},
     "output_type": "execute_result"
    }
   ],
   "source": [
    "range(10)"
   ]
  },
  {
   "cell_type": "code",
   "execution_count": 81,
   "metadata": {
    "collapsed": false
   },
   "outputs": [
    {
     "name": "stdout",
     "output_type": "stream",
     "text": [
      "strated\n",
      "iter sta\n",
      "p\n",
      "itera ended\n",
      "iter sta\n",
      "y\n",
      "itera ended\n",
      "iter sta\n",
      "t\n",
      "itera ended\n",
      "iter sta\n",
      "h\n",
      "itera ended\n",
      "iter sta\n",
      "o\n",
      "itera ended\n",
      "iter sta\n",
      "n\n",
      "itera ended\n",
      "iter sta\n",
      " \n",
      "itera ended\n",
      "iter sta\n",
      "p\n",
      "itera ended\n",
      "iter sta\n",
      "r\n",
      "itera ended\n",
      "iter sta\n",
      "o\n",
      "itera ended\n",
      "iter sta\n",
      "g\n",
      "itera ended\n",
      "iter sta\n",
      "r\n",
      "itera ended\n",
      "iter sta\n",
      "a\n",
      "itera ended\n",
      "iter sta\n",
      "m\n",
      "itera ended\n",
      "other\n",
      "ended\n"
     ]
    }
   ],
   "source": [
    "print \"strated\"\n",
    "s=\"python program\"\n",
    "for i in s:\n",
    "    print \"iter sta\"\n",
    "    print i\n",
    "    print \"itera ended\"\n",
    "print \"other\"\n",
    "print \"ended\""
   ]
  },
  {
   "cell_type": "code",
   "execution_count": 82,
   "metadata": {
    "collapsed": false
   },
   "outputs": [
    {
     "name": "stdout",
     "output_type": "stream",
     "text": [
      "strated\n",
      "iter sta\n",
      "p\n",
      "itera ended\n",
      "iter sta\n",
      "t\n",
      "itera ended\n",
      "iter sta\n",
      "o\n",
      "itera ended\n",
      "iter sta\n",
      " \n",
      "itera ended\n",
      "iter sta\n",
      "r\n",
      "itera ended\n",
      "iter sta\n",
      "g\n",
      "itera ended\n",
      "iter sta\n",
      "a\n",
      "itera ended\n",
      "other\n",
      "ended\n"
     ]
    }
   ],
   "source": [
    "print \"strated\"\n",
    "s=\"python program\"\n",
    "for i in s[::2]:\n",
    "    print \"iter sta\"\n",
    "    print i\n",
    "    print \"itera ended\"\n",
    "print \"other\"\n",
    "print \"ended\""
   ]
  },
  {
   "cell_type": "code",
   "execution_count": 83,
   "metadata": {
    "collapsed": false
   },
   "outputs": [
    {
     "name": "stdout",
     "output_type": "stream",
     "text": [
      "p\n",
      "y\n",
      "t\n",
      "h\n",
      "o\n",
      "n\n"
     ]
    }
   ],
   "source": [
    "s=\"python\"\n",
    "for i in s:\n",
    "    print i"
   ]
  },
  {
   "cell_type": "code",
   "execution_count": 84,
   "metadata": {
    "collapsed": false
   },
   "outputs": [
    {
     "name": "stdout",
     "output_type": "stream",
     "text": [
      "p\n"
     ]
    },
    {
     "ename": "TypeError",
     "evalue": "string indices must be integers, not str",
     "output_type": "error",
     "traceback": [
      "\u001b[0;31m---------------------------------------------------------------------------\u001b[0m",
      "\u001b[0;31mTypeError\u001b[0m                                 Traceback (most recent call last)",
      "\u001b[0;32m<ipython-input-84-a01f41a141df>\u001b[0m in \u001b[0;36m<module>\u001b[0;34m()\u001b[0m\n\u001b[1;32m      2\u001b[0m \u001b[0;32mfor\u001b[0m \u001b[0mi\u001b[0m \u001b[0;32min\u001b[0m \u001b[0ms\u001b[0m\u001b[0;34m:\u001b[0m\u001b[0;34m\u001b[0m\u001b[0m\n\u001b[1;32m      3\u001b[0m     \u001b[0;32mprint\u001b[0m \u001b[0mi\u001b[0m\u001b[0;34m\u001b[0m\u001b[0m\n\u001b[0;32m----> 4\u001b[0;31m     \u001b[0;32mprint\u001b[0m \u001b[0ms\u001b[0m\u001b[0;34m[\u001b[0m\u001b[0mi\u001b[0m\u001b[0;34m]\u001b[0m\u001b[0;34m,\u001b[0m\u001b[0ms\u001b[0m\u001b[0;34m[\u001b[0m\u001b[0;34m'p'\u001b[0m\u001b[0;34m]\u001b[0m\u001b[0;34m\u001b[0m\u001b[0m\n\u001b[0m",
      "\u001b[0;31mTypeError\u001b[0m: string indices must be integers, not str"
     ]
    }
   ],
   "source": [
    "s=\"python\"\n",
    "for i in s:\n",
    "    print i\n",
    "    print s[i],s['p']"
   ]
  },
  {
   "cell_type": "code",
   "execution_count": 85,
   "metadata": {
    "collapsed": false
   },
   "outputs": [
    {
     "name": "stdout",
     "output_type": "stream",
     "text": [
      "p\n",
      "y\n",
      "t\n",
      "h\n",
      "o\n",
      "n\n"
     ]
    }
   ],
   "source": [
    "i=0\n",
    "s=\"python\"\n",
    "while i<len(s):\n",
    "    print s[i]\n",
    "    i=i+1"
   ]
  },
  {
   "cell_type": "code",
   "execution_count": 86,
   "metadata": {
    "collapsed": false
   },
   "outputs": [
    {
     "name": "stdout",
     "output_type": "stream",
     "text": [
      "anil kumar\n",
      "pavan kumar\n"
     ]
    }
   ],
   "source": [
    "per=['anil kumar',\"ashok\",\"pavan kumar\",'ajay']\n",
    "for i in per:\n",
    "    if 'kumar' in i:\n",
    "        print i "
   ]
  },
  {
   "cell_type": "code",
   "execution_count": null,
   "metadata": {
    "collapsed": true
   },
   "outputs": [],
   "source": []
  }
 ],
 "metadata": {
  "kernelspec": {
   "display_name": "Python 2",
   "language": "python",
   "name": "python2"
  },
  "language_info": {
   "codemirror_mode": {
    "name": "ipython",
    "version": 2
   },
   "file_extension": ".py",
   "mimetype": "text/x-python",
   "name": "python",
   "nbconvert_exporter": "python",
   "pygments_lexer": "ipython2",
   "version": "2.7.13"
  }
 },
 "nbformat": 4,
 "nbformat_minor": 2
}
